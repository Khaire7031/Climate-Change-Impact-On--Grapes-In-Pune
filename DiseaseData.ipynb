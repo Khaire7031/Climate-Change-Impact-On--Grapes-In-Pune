{
 "cells": [
  {
   "cell_type": "code",
   "execution_count": 2,
   "id": "a19d482c-061c-4267-9ea4-64bd42b8bbe9",
   "metadata": {},
   "outputs": [
    {
     "name": "stdout",
     "output_type": "stream",
     "text": [
      "Add Data\n"
     ]
    }
   ],
   "source": [
    "print(\"Add Data\")"
   ]
  },
  {
   "cell_type": "code",
   "execution_count": 3,
   "id": "a1fd3fd0-8a12-4284-9eeb-85cc2cc4ba82",
   "metadata": {},
   "outputs": [],
   "source": [
    "import pandas as pd"
   ]
  },
  {
   "cell_type": "code",
   "execution_count": 4,
   "id": "e60064ba-b19c-4079-a4fb-19f0731a74d0",
   "metadata": {},
   "outputs": [],
   "source": [
    "data = pd.read_csv(\"new_pune_data.csv\");"
   ]
  },
  {
   "cell_type": "code",
   "execution_count": 5,
   "id": "bfccf09c-0eda-4740-9941-3fb6373b0e39",
   "metadata": {},
   "outputs": [
    {
     "data": {
      "text/html": [
       "<div>\n",
       "<style scoped>\n",
       "    .dataframe tbody tr th:only-of-type {\n",
       "        vertical-align: middle;\n",
       "    }\n",
       "\n",
       "    .dataframe tbody tr th {\n",
       "        vertical-align: top;\n",
       "    }\n",
       "\n",
       "    .dataframe thead th {\n",
       "        text-align: right;\n",
       "    }\n",
       "</style>\n",
       "<table border=\"1\" class=\"dataframe\">\n",
       "  <thead>\n",
       "    <tr style=\"text-align: right;\">\n",
       "      <th></th>\n",
       "      <th>date_time</th>\n",
       "      <th>uvIndex</th>\n",
       "      <th>DewPointC</th>\n",
       "      <th>HeatIndexC</th>\n",
       "      <th>cloudcover</th>\n",
       "      <th>humidity</th>\n",
       "      <th>precipMM</th>\n",
       "      <th>pressure</th>\n",
       "      <th>tempC</th>\n",
       "      <th>visibility</th>\n",
       "      <th>windspeedKmph</th>\n",
       "    </tr>\n",
       "  </thead>\n",
       "  <tbody>\n",
       "    <tr>\n",
       "      <th>0</th>\n",
       "      <td>2008-12-11 00:00:00</td>\n",
       "      <td>6</td>\n",
       "      <td>13</td>\n",
       "      <td>18</td>\n",
       "      <td>31</td>\n",
       "      <td>72</td>\n",
       "      <td>0.0</td>\n",
       "      <td>1013</td>\n",
       "      <td>18</td>\n",
       "      <td>10</td>\n",
       "      <td>5</td>\n",
       "    </tr>\n",
       "    <tr>\n",
       "      <th>1</th>\n",
       "      <td>2008-12-11 01:00:00</td>\n",
       "      <td>6</td>\n",
       "      <td>14</td>\n",
       "      <td>19</td>\n",
       "      <td>30</td>\n",
       "      <td>72</td>\n",
       "      <td>0.0</td>\n",
       "      <td>1013</td>\n",
       "      <td>19</td>\n",
       "      <td>10</td>\n",
       "      <td>4</td>\n",
       "    </tr>\n",
       "    <tr>\n",
       "      <th>2</th>\n",
       "      <td>2008-12-11 02:00:00</td>\n",
       "      <td>6</td>\n",
       "      <td>13</td>\n",
       "      <td>18</td>\n",
       "      <td>29</td>\n",
       "      <td>72</td>\n",
       "      <td>0.0</td>\n",
       "      <td>1013</td>\n",
       "      <td>18</td>\n",
       "      <td>10</td>\n",
       "      <td>4</td>\n",
       "    </tr>\n",
       "    <tr>\n",
       "      <th>3</th>\n",
       "      <td>2008-12-11 03:00:00</td>\n",
       "      <td>6</td>\n",
       "      <td>13</td>\n",
       "      <td>18</td>\n",
       "      <td>29</td>\n",
       "      <td>72</td>\n",
       "      <td>0.0</td>\n",
       "      <td>1013</td>\n",
       "      <td>18</td>\n",
       "      <td>10</td>\n",
       "      <td>4</td>\n",
       "    </tr>\n",
       "    <tr>\n",
       "      <th>4</th>\n",
       "      <td>2008-12-11 04:00:00</td>\n",
       "      <td>6</td>\n",
       "      <td>13</td>\n",
       "      <td>20</td>\n",
       "      <td>23</td>\n",
       "      <td>68</td>\n",
       "      <td>0.0</td>\n",
       "      <td>1014</td>\n",
       "      <td>20</td>\n",
       "      <td>10</td>\n",
       "      <td>4</td>\n",
       "    </tr>\n",
       "  </tbody>\n",
       "</table>\n",
       "</div>"
      ],
      "text/plain": [
       "             date_time  uvIndex  DewPointC  HeatIndexC  cloudcover  humidity   \n",
       "0  2008-12-11 00:00:00        6         13          18          31        72  \\\n",
       "1  2008-12-11 01:00:00        6         14          19          30        72   \n",
       "2  2008-12-11 02:00:00        6         13          18          29        72   \n",
       "3  2008-12-11 03:00:00        6         13          18          29        72   \n",
       "4  2008-12-11 04:00:00        6         13          20          23        68   \n",
       "\n",
       "   precipMM  pressure  tempC  visibility  windspeedKmph  \n",
       "0       0.0      1013     18          10              5  \n",
       "1       0.0      1013     19          10              4  \n",
       "2       0.0      1013     18          10              4  \n",
       "3       0.0      1013     18          10              4  \n",
       "4       0.0      1014     20          10              4  "
      ]
     },
     "execution_count": 5,
     "metadata": {},
     "output_type": "execute_result"
    }
   ],
   "source": [
    "data.head()"
   ]
  },
  {
   "cell_type": "code",
   "execution_count": 6,
   "id": "384a349d-7417-4a6f-a384-1d4a37117a4c",
   "metadata": {},
   "outputs": [
    {
     "data": {
      "text/plain": [
       "Index(['date_time', 'uvIndex', 'DewPointC', 'HeatIndexC', 'cloudcover',\n",
       "       'humidity', 'precipMM', 'pressure', 'tempC', 'visibility',\n",
       "       'windspeedKmph'],\n",
       "      dtype='object')"
      ]
     },
     "execution_count": 6,
     "metadata": {},
     "output_type": "execute_result"
    }
   ],
   "source": [
    "data.columns"
   ]
  },
  {
   "cell_type": "code",
   "execution_count": null,
   "id": "eaf20a55-a768-4430-a909-b473fe38aa2f",
   "metadata": {},
   "outputs": [],
   "source": []
  },
  {
   "cell_type": "markdown",
   "id": "f942bc28-2181-4fee-a2ad-41ef8845feb2",
   "metadata": {},
   "source": [
    "# Disease 1 : Heat Stroke"
   ]
  },
  {
   "cell_type": "raw",
   "id": "0edf4c36-112f-487b-8520-5f3f15845504",
   "metadata": {},
   "source": [
    "uvIndex:   UV >= 7\n",
    "\n",
    "DewPointC:  Temperature >= 18(°C)  \n",
    "\n",
    "HeatIndexC:  Temperature >= 32 (°C)\n",
    "\n",
    "cloudcover: Cloud Cover (%)\n",
    "\n",
    "humidity: Humidity >= 60(%)\n",
    "\n",
    "precipMM: Precipitation  0 (mm)\n",
    "\n",
    "pressure: Atmospheric Pressure (millibars)\n",
    "\n",
    "tempC:  temp > = 40(°C)\n",
    "\n",
    "visibility: Visibility (kilometers)\n",
    "\n",
    "windspeedKmph: Wind Speed (kilometers per hour)"
   ]
  },
  {
   "cell_type": "markdown",
   "id": "5087572c-d95c-40ca-bdde-d39a0d88387e",
   "metadata": {},
   "source": [
    "# Add new Column for heatstroke\n"
   ]
  },
  {
   "cell_type": "code",
   "execution_count": 7,
   "id": "f3ae6e64-5239-418d-9838-4a3e1578b421",
   "metadata": {},
   "outputs": [],
   "source": [
    "data['heatStroke'] = None"
   ]
  },
  {
   "cell_type": "code",
   "execution_count": 8,
   "id": "0204418b-cbd5-4764-9907-927eb801a83d",
   "metadata": {},
   "outputs": [
    {
     "data": {
      "text/plain": [
       "Index(['date_time', 'uvIndex', 'DewPointC', 'HeatIndexC', 'cloudcover',\n",
       "       'humidity', 'precipMM', 'pressure', 'tempC', 'visibility',\n",
       "       'windspeedKmph', 'heatStroke'],\n",
       "      dtype='object')"
      ]
     },
     "execution_count": 8,
     "metadata": {},
     "output_type": "execute_result"
    }
   ],
   "source": [
    "data.columns"
   ]
  },
  {
   "cell_type": "code",
   "execution_count": 9,
   "id": "aec54ebe-e5d4-4020-a98e-631c6ccb0bb6",
   "metadata": {},
   "outputs": [
    {
     "data": {
      "text/html": [
       "<div>\n",
       "<style scoped>\n",
       "    .dataframe tbody tr th:only-of-type {\n",
       "        vertical-align: middle;\n",
       "    }\n",
       "\n",
       "    .dataframe tbody tr th {\n",
       "        vertical-align: top;\n",
       "    }\n",
       "\n",
       "    .dataframe thead th {\n",
       "        text-align: right;\n",
       "    }\n",
       "</style>\n",
       "<table border=\"1\" class=\"dataframe\">\n",
       "  <thead>\n",
       "    <tr style=\"text-align: right;\">\n",
       "      <th></th>\n",
       "      <th>date_time</th>\n",
       "      <th>uvIndex</th>\n",
       "      <th>DewPointC</th>\n",
       "      <th>HeatIndexC</th>\n",
       "      <th>cloudcover</th>\n",
       "      <th>humidity</th>\n",
       "      <th>precipMM</th>\n",
       "      <th>pressure</th>\n",
       "      <th>tempC</th>\n",
       "      <th>visibility</th>\n",
       "      <th>windspeedKmph</th>\n",
       "      <th>heatStroke</th>\n",
       "    </tr>\n",
       "  </thead>\n",
       "  <tbody>\n",
       "    <tr>\n",
       "      <th>0</th>\n",
       "      <td>2008-12-11 00:00:00</td>\n",
       "      <td>6</td>\n",
       "      <td>13</td>\n",
       "      <td>18</td>\n",
       "      <td>31</td>\n",
       "      <td>72</td>\n",
       "      <td>0.0</td>\n",
       "      <td>1013</td>\n",
       "      <td>18</td>\n",
       "      <td>10</td>\n",
       "      <td>5</td>\n",
       "      <td>None</td>\n",
       "    </tr>\n",
       "    <tr>\n",
       "      <th>1</th>\n",
       "      <td>2008-12-11 01:00:00</td>\n",
       "      <td>6</td>\n",
       "      <td>14</td>\n",
       "      <td>19</td>\n",
       "      <td>30</td>\n",
       "      <td>72</td>\n",
       "      <td>0.0</td>\n",
       "      <td>1013</td>\n",
       "      <td>19</td>\n",
       "      <td>10</td>\n",
       "      <td>4</td>\n",
       "      <td>None</td>\n",
       "    </tr>\n",
       "    <tr>\n",
       "      <th>2</th>\n",
       "      <td>2008-12-11 02:00:00</td>\n",
       "      <td>6</td>\n",
       "      <td>13</td>\n",
       "      <td>18</td>\n",
       "      <td>29</td>\n",
       "      <td>72</td>\n",
       "      <td>0.0</td>\n",
       "      <td>1013</td>\n",
       "      <td>18</td>\n",
       "      <td>10</td>\n",
       "      <td>4</td>\n",
       "      <td>None</td>\n",
       "    </tr>\n",
       "    <tr>\n",
       "      <th>3</th>\n",
       "      <td>2008-12-11 03:00:00</td>\n",
       "      <td>6</td>\n",
       "      <td>13</td>\n",
       "      <td>18</td>\n",
       "      <td>29</td>\n",
       "      <td>72</td>\n",
       "      <td>0.0</td>\n",
       "      <td>1013</td>\n",
       "      <td>18</td>\n",
       "      <td>10</td>\n",
       "      <td>4</td>\n",
       "      <td>None</td>\n",
       "    </tr>\n",
       "    <tr>\n",
       "      <th>4</th>\n",
       "      <td>2008-12-11 04:00:00</td>\n",
       "      <td>6</td>\n",
       "      <td>13</td>\n",
       "      <td>20</td>\n",
       "      <td>23</td>\n",
       "      <td>68</td>\n",
       "      <td>0.0</td>\n",
       "      <td>1014</td>\n",
       "      <td>20</td>\n",
       "      <td>10</td>\n",
       "      <td>4</td>\n",
       "      <td>None</td>\n",
       "    </tr>\n",
       "  </tbody>\n",
       "</table>\n",
       "</div>"
      ],
      "text/plain": [
       "             date_time  uvIndex  DewPointC  HeatIndexC  cloudcover  humidity   \n",
       "0  2008-12-11 00:00:00        6         13          18          31        72  \\\n",
       "1  2008-12-11 01:00:00        6         14          19          30        72   \n",
       "2  2008-12-11 02:00:00        6         13          18          29        72   \n",
       "3  2008-12-11 03:00:00        6         13          18          29        72   \n",
       "4  2008-12-11 04:00:00        6         13          20          23        68   \n",
       "\n",
       "   precipMM  pressure  tempC  visibility  windspeedKmph heatStroke  \n",
       "0       0.0      1013     18          10              5       None  \n",
       "1       0.0      1013     19          10              4       None  \n",
       "2       0.0      1013     18          10              4       None  \n",
       "3       0.0      1013     18          10              4       None  \n",
       "4       0.0      1014     20          10              4       None  "
      ]
     },
     "execution_count": 9,
     "metadata": {},
     "output_type": "execute_result"
    }
   ],
   "source": [
    "data.head()\n"
   ]
  },
  {
   "cell_type": "code",
   "execution_count": 10,
   "id": "9f684fd3-e17a-4cf3-9df4-74ead8f2ae89",
   "metadata": {},
   "outputs": [
    {
     "name": "stdout",
     "output_type": "stream",
     "text": [
      "<class 'pandas.core.frame.DataFrame'>\n",
      "RangeIndex: 116136 entries, 0 to 116135\n",
      "Data columns (total 12 columns):\n",
      " #   Column         Non-Null Count   Dtype  \n",
      "---  ------         --------------   -----  \n",
      " 0   date_time      116136 non-null  object \n",
      " 1   uvIndex        116136 non-null  int64  \n",
      " 2   DewPointC      116136 non-null  int64  \n",
      " 3   HeatIndexC     116136 non-null  int64  \n",
      " 4   cloudcover     116136 non-null  int64  \n",
      " 5   humidity       116136 non-null  int64  \n",
      " 6   precipMM       116136 non-null  float64\n",
      " 7   pressure       116136 non-null  int64  \n",
      " 8   tempC          116136 non-null  int64  \n",
      " 9   visibility     116136 non-null  int64  \n",
      " 10  windspeedKmph  116136 non-null  int64  \n",
      " 11  heatStroke     0 non-null       object \n",
      "dtypes: float64(1), int64(9), object(2)\n",
      "memory usage: 10.6+ MB\n"
     ]
    }
   ],
   "source": [
    "data.info()"
   ]
  },
  {
   "cell_type": "code",
   "execution_count": 11,
   "id": "bb2e6914-b3bb-4a4b-8f8d-1cfcee8c6be7",
   "metadata": {},
   "outputs": [
    {
     "data": {
      "text/plain": [
       "count       0\n",
       "unique      0\n",
       "top       NaN\n",
       "freq      NaN\n",
       "Name: heatStroke, dtype: object"
      ]
     },
     "execution_count": 11,
     "metadata": {},
     "output_type": "execute_result"
    }
   ],
   "source": [
    "data['heatStroke'].describe()"
   ]
  },
  {
   "cell_type": "code",
   "execution_count": 12,
   "id": "8c4441fa-581a-432c-8c4a-cfccb350f401",
   "metadata": {},
   "outputs": [
    {
     "data": {
      "text/plain": [
       "<bound method IndexOpsMixin.value_counts of 0         None\n",
       "1         None\n",
       "2         None\n",
       "3         None\n",
       "4         None\n",
       "          ... \n",
       "116131    None\n",
       "116132    None\n",
       "116133    None\n",
       "116134    None\n",
       "116135    None\n",
       "Name: heatStroke, Length: 116136, dtype: object>"
      ]
     },
     "execution_count": 12,
     "metadata": {},
     "output_type": "execute_result"
    }
   ],
   "source": [
    "data['heatStroke'].value_counts"
   ]
  },
  {
   "cell_type": "code",
   "execution_count": 13,
   "id": "d0fa2743-af4e-4da4-82f3-88a5e273890f",
   "metadata": {},
   "outputs": [
    {
     "data": {
      "text/plain": [
       "Index(['date_time', 'uvIndex', 'DewPointC', 'HeatIndexC', 'cloudcover',\n",
       "       'humidity', 'precipMM', 'pressure', 'tempC', 'visibility',\n",
       "       'windspeedKmph', 'heatStroke'],\n",
       "      dtype='object')"
      ]
     },
     "execution_count": 13,
     "metadata": {},
     "output_type": "execute_result"
    }
   ],
   "source": [
    "data.columns"
   ]
  },
  {
   "cell_type": "code",
   "execution_count": 32,
   "id": "963423b2-4dca-4932-82bc-fcb101da227f",
   "metadata": {},
   "outputs": [
    {
     "data": {
      "image/png": "[encoded data removed]",
      "text/plain": [
       "<Figure size 640x480 with 1 Axes>"
      ]
     },
     "metadata": {},
     "output_type": "display_data"
    }
   ],
   "source": [
    "import matplotlib.pyplot as plt\n",
    "\n",
    "# Define the downsampling factor\n",
    "downsample_factor = 10000\n",
    "\n",
    "# Plot every nth data point for each variable\n",
    "plt.plot(data['uvIndex'][::downsample_factor], label='uvIndex')\n",
    "plt.plot(data['DewPointC'][::downsample_factor], label='DewPointC')\n",
    "plt.plot(data['HeatIndexC'][::downsample_factor], label='HeatIndexC')\n",
    "plt.plot(data['cloudcover'][::downsample_factor], label='cloudcover')\n",
    "plt.plot(data['humidity'][::downsample_factor], label='humidity')\n",
    "plt.plot(data['precipMM'][::downsample_factor], label='precipMM')\n",
    "plt.plot(data['tempC'][::downsample_factor], label='tempC')\n",
    "plt.plot(data['visibility'][::downsample_factor], label='visibility')\n",
    "# plt.plot(data['pressure'][::downsample_factor], label='pressure')\n",
    "\n",
    "# Add legend\n",
    "plt.legend()\n",
    "\n",
    "# Show plot\n",
    "plt.show()\n"
   ]
  },
  {
   "cell_type": "code",
   "execution_count": null,
   "id": "26d37c47-59c9-4cff-9e8f-32eda2af0bd2",
   "metadata": {},
   "outputs": [],
   "source": []
  },
  {
   "cell_type": "markdown",
   "id": "b7a43288-bdec-445f-aa54-80fe79a6bcb3",
   "metadata": {},
   "source": [
    "# Add values in HeatStroke\n",
    "\n"
   ]
  },
  {
   "cell_type": "code",
   "execution_count": 33,
   "id": "788ed98d-8cc8-4d2c-8102-2accbf4c33fb",
   "metadata": {},
   "outputs": [
    {
     "data": {
      "text/html": [
       "<div>\n",
       "<style scoped>\n",
       "    .dataframe tbody tr th:only-of-type {\n",
       "        vertical-align: middle;\n",
       "    }\n",
       "\n",
       "    .dataframe tbody tr th {\n",
       "        vertical-align: top;\n",
       "    }\n",
       "\n",
       "    .dataframe thead th {\n",
       "        text-align: right;\n",
       "    }\n",
       "</style>\n",
       "<table border=\"1\" class=\"dataframe\">\n",
       "  <thead>\n",
       "    <tr style=\"text-align: right;\">\n",
       "      <th></th>\n",
       "      <th>uvIndex</th>\n",
       "      <th>DewPointC</th>\n",
       "      <th>HeatIndexC</th>\n",
       "      <th>cloudcover</th>\n",
       "      <th>humidity</th>\n",
       "      <th>precipMM</th>\n",
       "      <th>pressure</th>\n",
       "      <th>tempC</th>\n",
       "      <th>visibility</th>\n",
       "      <th>windspeedKmph</th>\n",
       "      <th>heatStroke</th>\n",
       "    </tr>\n",
       "    <tr>\n",
       "      <th>date_time</th>\n",
       "      <th></th>\n",
       "      <th></th>\n",
       "      <th></th>\n",
       "      <th></th>\n",
       "      <th></th>\n",
       "      <th></th>\n",
       "      <th></th>\n",
       "      <th></th>\n",
       "      <th></th>\n",
       "      <th></th>\n",
       "      <th></th>\n",
       "    </tr>\n",
       "  </thead>\n",
       "  <tbody>\n",
       "    <tr>\n",
       "      <th>2008-12-11 00:00:00</th>\n",
       "      <td>6</td>\n",
       "      <td>13</td>\n",
       "      <td>18</td>\n",
       "      <td>31</td>\n",
       "      <td>72</td>\n",
       "      <td>0.0</td>\n",
       "      <td>1013</td>\n",
       "      <td>18</td>\n",
       "      <td>10</td>\n",
       "      <td>5</td>\n",
       "      <td>None</td>\n",
       "    </tr>\n",
       "    <tr>\n",
       "      <th>2008-12-11 01:00:00</th>\n",
       "      <td>6</td>\n",
       "      <td>14</td>\n",
       "      <td>19</td>\n",
       "      <td>30</td>\n",
       "      <td>72</td>\n",
       "      <td>0.0</td>\n",
       "      <td>1013</td>\n",
       "      <td>19</td>\n",
       "      <td>10</td>\n",
       "      <td>4</td>\n",
       "      <td>None</td>\n",
       "    </tr>\n",
       "    <tr>\n",
       "      <th>2008-12-11 02:00:00</th>\n",
       "      <td>6</td>\n",
       "      <td>13</td>\n",
       "      <td>18</td>\n",
       "      <td>29</td>\n",
       "      <td>72</td>\n",
       "      <td>0.0</td>\n",
       "      <td>1013</td>\n",
       "      <td>18</td>\n",
       "      <td>10</td>\n",
       "      <td>4</td>\n",
       "      <td>None</td>\n",
       "    </tr>\n",
       "    <tr>\n",
       "      <th>2008-12-11 03:00:00</th>\n",
       "      <td>6</td>\n",
       "      <td>13</td>\n",
       "      <td>18</td>\n",
       "      <td>29</td>\n",
       "      <td>72</td>\n",
       "      <td>0.0</td>\n",
       "      <td>1013</td>\n",
       "      <td>18</td>\n",
       "      <td>10</td>\n",
       "      <td>4</td>\n",
       "      <td>None</td>\n",
       "    </tr>\n",
       "    <tr>\n",
       "      <th>2008-12-11 04:00:00</th>\n",
       "      <td>6</td>\n",
       "      <td>13</td>\n",
       "      <td>20</td>\n",
       "      <td>23</td>\n",
       "      <td>68</td>\n",
       "      <td>0.0</td>\n",
       "      <td>1014</td>\n",
       "      <td>20</td>\n",
       "      <td>10</td>\n",
       "      <td>4</td>\n",
       "      <td>None</td>\n",
       "    </tr>\n",
       "  </tbody>\n",
       "</table>\n",
       "</div>"
      ],
      "text/plain": [
       "                     uvIndex  DewPointC  HeatIndexC  cloudcover  humidity   \n",
       "date_time                                                                   \n",
       "2008-12-11 00:00:00        6         13          18          31        72  \\\n",
       "2008-12-11 01:00:00        6         14          19          30        72   \n",
       "2008-12-11 02:00:00        6         13          18          29        72   \n",
       "2008-12-11 03:00:00        6         13          18          29        72   \n",
       "2008-12-11 04:00:00        6         13          20          23        68   \n",
       "\n",
       "                     precipMM  pressure  tempC  visibility  windspeedKmph   \n",
       "date_time                                                                   \n",
       "2008-12-11 00:00:00       0.0      1013     18          10              5  \\\n",
       "2008-12-11 01:00:00       0.0      1013     19          10              4   \n",
       "2008-12-11 02:00:00       0.0      1013     18          10              4   \n",
       "2008-12-11 03:00:00       0.0      1013     18          10              4   \n",
       "2008-12-11 04:00:00       0.0      1014     20          10              4   \n",
       "\n",
       "                    heatStroke  \n",
       "date_time                       \n",
       "2008-12-11 00:00:00       None  \n",
       "2008-12-11 01:00:00       None  \n",
       "2008-12-11 02:00:00       None  \n",
       "2008-12-11 03:00:00       None  \n",
       "2008-12-11 04:00:00       None  "
      ]
     },
     "execution_count": 33,
     "metadata": {},
     "output_type": "execute_result"
    }
   ],
   "source": [
    "data.head()"
   ]
  },
  {
   "cell_type": "code",
   "execution_count": null,
   "id": "96187f05-bad3-4dc6-9cd2-f34a5b9ad473",
   "metadata": {},
   "outputs": [],
   "source": []
  },
  {
   "cell_type": "code",
   "execution_count": 130,
   "id": "77e15a49-b74b-421c-92ed-809f06bb4edb",
   "metadata": {},
   "outputs": [],
   "source": [
    "\n",
    "uv_condition = data['uvIndex'] >= 7\n",
    "dewpoint_condition = data['DewPointC'] >= 18\n",
    "heatindex_condition = data['HeatIndexC'] >= 32\n",
    "cloudcover_condition = data['cloudcover'] < 50  \n",
    "pressure_condition = (data['pressure'] >= 1000) & (data['pressure'] <= 1015)  \n",
    "visibility_condition = data['visibility'] >= 5 \n",
    "windspeed_condition = data['windspeedKmph'] < 20  \n",
    "\n",
    "humidity_condition = data['humidity'] >= 60\n",
    "precip_condition = data['precipMM'] <=1\n",
    "temp_condition = data['tempC'] >= 30\n",
    "\n",
    "# Combine all conditions using logical AND\n",
    "overall_condition = (\n",
    "    humidity_condition & precip_condition & temp_condition\n",
    ")\n",
    "\n",
    "# Update \n",
    "data['heatStroke'] = 0 # before\n",
    "data.loc[overall_condition, 'heatStroke'] = 1  # according to condition\n"
   ]
  },
  {
   "cell_type": "code",
   "execution_count": 131,
   "id": "ba2624b5-53e3-4aa9-add9-0b13d81d3774",
   "metadata": {},
   "outputs": [
    {
     "data": {
      "text/html": [
       "<div>\n",
       "<style scoped>\n",
       "    .dataframe tbody tr th:only-of-type {\n",
       "        vertical-align: middle;\n",
       "    }\n",
       "\n",
       "    .dataframe tbody tr th {\n",
       "        vertical-align: top;\n",
       "    }\n",
       "\n",
       "    .dataframe thead th {\n",
       "        text-align: right;\n",
       "    }\n",
       "</style>\n",
       "<table border=\"1\" class=\"dataframe\">\n",
       "  <thead>\n",
       "    <tr style=\"text-align: right;\">\n",
       "      <th></th>\n",
       "      <th>uvIndex</th>\n",
       "      <th>DewPointC</th>\n",
       "      <th>HeatIndexC</th>\n",
       "      <th>cloudcover</th>\n",
       "      <th>humidity</th>\n",
       "      <th>precipMM</th>\n",
       "      <th>pressure</th>\n",
       "      <th>tempC</th>\n",
       "      <th>visibility</th>\n",
       "      <th>windspeedKmph</th>\n",
       "      <th>heatStroke</th>\n",
       "    </tr>\n",
       "  </thead>\n",
       "  <tbody>\n",
       "    <tr>\n",
       "      <th>count</th>\n",
       "      <td>116136.000000</td>\n",
       "      <td>116136.000000</td>\n",
       "      <td>116136.000000</td>\n",
       "      <td>116136.00000</td>\n",
       "      <td>116136.000000</td>\n",
       "      <td>116136.000000</td>\n",
       "      <td>116136.000000</td>\n",
       "      <td>116136.000000</td>\n",
       "      <td>116136.000000</td>\n",
       "      <td>116136.000000</td>\n",
       "      <td>116136.000000</td>\n",
       "    </tr>\n",
       "    <tr>\n",
       "      <th>mean</th>\n",
       "      <td>6.208927</td>\n",
       "      <td>15.141722</td>\n",
       "      <td>26.364383</td>\n",
       "      <td>31.43028</td>\n",
       "      <td>57.646001</td>\n",
       "      <td>0.231727</td>\n",
       "      <td>1009.731522</td>\n",
       "      <td>25.304720</td>\n",
       "      <td>9.409899</td>\n",
       "      <td>9.397663</td>\n",
       "      <td>0.002738</td>\n",
       "    </tr>\n",
       "    <tr>\n",
       "      <th>std</th>\n",
       "      <td>0.921580</td>\n",
       "      <td>6.093959</td>\n",
       "      <td>4.355228</td>\n",
       "      <td>34.09457</td>\n",
       "      <td>25.316012</td>\n",
       "      <td>0.802657</td>\n",
       "      <td>3.580792</td>\n",
       "      <td>4.659629</td>\n",
       "      <td>1.593393</td>\n",
       "      <td>4.775019</td>\n",
       "      <td>0.052256</td>\n",
       "    </tr>\n",
       "    <tr>\n",
       "      <th>min</th>\n",
       "      <td>4.000000</td>\n",
       "      <td>-12.000000</td>\n",
       "      <td>11.000000</td>\n",
       "      <td>0.00000</td>\n",
       "      <td>4.000000</td>\n",
       "      <td>0.000000</td>\n",
       "      <td>997.000000</td>\n",
       "      <td>11.000000</td>\n",
       "      <td>0.000000</td>\n",
       "      <td>0.000000</td>\n",
       "      <td>0.000000</td>\n",
       "    </tr>\n",
       "    <tr>\n",
       "      <th>25%</th>\n",
       "      <td>5.000000</td>\n",
       "      <td>10.000000</td>\n",
       "      <td>25.000000</td>\n",
       "      <td>3.00000</td>\n",
       "      <td>36.000000</td>\n",
       "      <td>0.000000</td>\n",
       "      <td>1007.000000</td>\n",
       "      <td>22.000000</td>\n",
       "      <td>10.000000</td>\n",
       "      <td>6.000000</td>\n",
       "      <td>0.000000</td>\n",
       "    </tr>\n",
       "    <tr>\n",
       "      <th>50%</th>\n",
       "      <td>6.000000</td>\n",
       "      <td>16.000000</td>\n",
       "      <td>26.000000</td>\n",
       "      <td>12.00000</td>\n",
       "      <td>58.000000</td>\n",
       "      <td>0.000000</td>\n",
       "      <td>1010.000000</td>\n",
       "      <td>24.000000</td>\n",
       "      <td>10.000000</td>\n",
       "      <td>9.000000</td>\n",
       "      <td>0.000000</td>\n",
       "    </tr>\n",
       "    <tr>\n",
       "      <th>75%</th>\n",
       "      <td>7.000000</td>\n",
       "      <td>21.000000</td>\n",
       "      <td>29.000000</td>\n",
       "      <td>66.00000</td>\n",
       "      <td>82.000000</td>\n",
       "      <td>0.100000</td>\n",
       "      <td>1012.000000</td>\n",
       "      <td>28.000000</td>\n",
       "      <td>10.000000</td>\n",
       "      <td>12.000000</td>\n",
       "      <td>0.000000</td>\n",
       "    </tr>\n",
       "    <tr>\n",
       "      <th>max</th>\n",
       "      <td>8.000000</td>\n",
       "      <td>25.000000</td>\n",
       "      <td>44.000000</td>\n",
       "      <td>100.00000</td>\n",
       "      <td>100.000000</td>\n",
       "      <td>25.700000</td>\n",
       "      <td>1021.000000</td>\n",
       "      <td>43.000000</td>\n",
       "      <td>10.000000</td>\n",
       "      <td>40.000000</td>\n",
       "      <td>1.000000</td>\n",
       "    </tr>\n",
       "  </tbody>\n",
       "</table>\n",
       "</div>"
      ],
      "text/plain": [
       "             uvIndex      DewPointC     HeatIndexC    cloudcover   \n",
       "count  116136.000000  116136.000000  116136.000000  116136.00000  \\\n",
       "mean        6.208927      15.141722      26.364383      31.43028   \n",
       "std         0.921580       6.093959       4.355228      34.09457   \n",
       "min         4.000000     -12.000000      11.000000       0.00000   \n",
       "25%         5.000000      10.000000      25.000000       3.00000   \n",
       "50%         6.000000      16.000000      26.000000      12.00000   \n",
       "75%         7.000000      21.000000      29.000000      66.00000   \n",
       "max         8.000000      25.000000      44.000000     100.00000   \n",
       "\n",
       "            humidity       precipMM       pressure          tempC   \n",
       "count  116136.000000  116136.000000  116136.000000  116136.000000  \\\n",
       "mean       57.646001       0.231727    1009.731522      25.304720   \n",
       "std        25.316012       0.802657       3.580792       4.659629   \n",
       "min         4.000000       0.000000     997.000000      11.000000   \n",
       "25%        36.000000       0.000000    1007.000000      22.000000   \n",
       "50%        58.000000       0.000000    1010.000000      24.000000   \n",
       "75%        82.000000       0.100000    1012.000000      28.000000   \n",
       "max       100.000000      25.700000    1021.000000      43.000000   \n",
       "\n",
       "          visibility  windspeedKmph     heatStroke  \n",
       "count  116136.000000  116136.000000  116136.000000  \n",
       "mean        9.409899       9.397663       0.002738  \n",
       "std         1.593393       4.775019       0.052256  \n",
       "min         0.000000       0.000000       0.000000  \n",
       "25%        10.000000       6.000000       0.000000  \n",
       "50%        10.000000       9.000000       0.000000  \n",
       "75%        10.000000      12.000000       0.000000  \n",
       "max        10.000000      40.000000       1.000000  "
      ]
     },
     "execution_count": 131,
     "metadata": {},
     "output_type": "execute_result"
    }
   ],
   "source": [
    "data.describe()"
   ]
  },
  {
   "cell_type": "code",
   "execution_count": 132,
   "id": "5a62c30e-3e4c-4f36-8468-a003d302d81e",
   "metadata": {},
   "outputs": [
    {
     "data": {
      "text/plain": [
       "heatStroke\n",
       "0    115818\n",
       "1       318\n",
       "Name: count, dtype: int64"
      ]
     },
     "execution_count": 132,
     "metadata": {},
     "output_type": "execute_result"
    }
   ],
   "source": [
    "data['heatStroke'].value_counts()\n",
    "# data['precipMM']\n",
    "\n"
   ]
  },
  {
   "cell_type": "code",
   "execution_count": 49,
   "id": "2a905142-899e-41f0-9d5e-7b67978bac86",
   "metadata": {},
   "outputs": [],
   "source": [
    "# uvIndex:   UV >= 7\n",
    "\n",
    "# DewPointC:  Temperature >= 18(°C)  \n",
    "\n",
    "# HeatIndexC:  Temperature >= 32 (°C)\n",
    "\n",
    "# cloudcover: Cloud Cover (%)\n",
    "\n",
    "# humidity: Humidity >= 60(%)\n",
    "\n",
    "# precipMM: Precipitation  0 (mm)\n",
    "\n",
    "# pressure: Atmospheric Pressure (millibars)\n",
    "\n",
    "# tempC:  temp > = 40(°C)\n",
    "\n",
    "# visibility: Visibility (kilometers)\n",
    "\n",
    "# windspeedKmph: Wind Speed (kilometers per hour)"
   ]
  },
  {
   "cell_type": "code",
   "execution_count": 134,
   "id": "eb22a754-5dde-4ae6-a175-d45da27d54c3",
   "metadata": {},
   "outputs": [],
   "source": [
    "# plt.plot(data['heatStroke'],data['uvIndex'])"
   ]
  },
  {
   "cell_type": "code",
   "execution_count": null,
   "id": "91fb53c6-41d2-4607-911e-5c6b9b549cb8",
   "metadata": {},
   "outputs": [],
   "source": []
  }
 ],
 "metadata": {
  "kernelspec": {
   "display_name": "tfodj",
   "language": "python",
   "name": "tfodj"
  },
  "language_info": {
   "codemirror_mode": {
    "name": "ipython",
    "version": 3
   },
   "file_extension": ".py",
   "mimetype": "text/x-python",
   "name": "python",
   "nbconvert_exporter": "python",
   "pygments_lexer": "ipython3",
   "version": "3.10.2"
  }
 },
 "nbformat": 4,
 "nbformat_minor": 5
}
