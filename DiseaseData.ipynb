{
 "cells": [
  {
   "cell_type": "code",
   "execution_count": 9,
   "id": "a19d482c-061c-4267-9ea4-64bd42b8bbe9",
   "metadata": {},
   "outputs": [
    {
     "name": "stdout",
     "output_type": "stream",
     "text": [
      "Add Data\n"
     ]
    }
   ],
   "source": [
    "print(\"Add Data\")"
   ]
  },
  {
   "cell_type": "code",
   "execution_count": 10,
   "id": "a1fd3fd0-8a12-4284-9eeb-85cc2cc4ba82",
   "metadata": {},
   "outputs": [],
   "source": [
    "import pandas as pd"
   ]
  },
  {
   "cell_type": "code",
   "execution_count": 11,
   "id": "e60064ba-b19c-4079-a4fb-19f0731a74d0",
   "metadata": {},
   "outputs": [],
   "source": [
    "data = pd.read_csv(\"new_pune_data.csv\");"
   ]
  },
  {
   "cell_type": "code",
   "execution_count": 12,
   "id": "bfccf09c-0eda-4740-9941-3fb6373b0e39",
   "metadata": {},
   "outputs": [
    {
     "data": {
      "text/html": [
       "<div>\n",
       "<style scoped>\n",
       "    .dataframe tbody tr th:only-of-type {\n",
       "        vertical-align: middle;\n",
       "    }\n",
       "\n",
       "    .dataframe tbody tr th {\n",
       "        vertical-align: top;\n",
       "    }\n",
       "\n",
       "    .dataframe thead th {\n",
       "        text-align: right;\n",
       "    }\n",
       "</style>\n",
       "<table border=\"1\" class=\"dataframe\">\n",
       "  <thead>\n",
       "    <tr style=\"text-align: right;\">\n",
       "      <th></th>\n",
       "      <th>date_time</th>\n",
       "      <th>uvIndex</th>\n",
       "      <th>DewPointC</th>\n",
       "      <th>HeatIndexC</th>\n",
       "      <th>cloudcover</th>\n",
       "      <th>humidity</th>\n",
       "      <th>precipMM</th>\n",
       "      <th>pressure</th>\n",
       "      <th>tempC</th>\n",
       "      <th>visibility</th>\n",
       "      <th>windspeedKmph</th>\n",
       "      <th>Heat Stroke</th>\n",
       "    </tr>\n",
       "  </thead>\n",
       "  <tbody>\n",
       "    <tr>\n",
       "      <th>0</th>\n",
       "      <td>11-12-2008 00:00</td>\n",
       "      <td>6</td>\n",
       "      <td>13</td>\n",
       "      <td>18</td>\n",
       "      <td>31</td>\n",
       "      <td>72</td>\n",
       "      <td>0.0</td>\n",
       "      <td>1013</td>\n",
       "      <td>18</td>\n",
       "      <td>10</td>\n",
       "      <td>5</td>\n",
       "      <td>NaN</td>\n",
       "    </tr>\n",
       "    <tr>\n",
       "      <th>1</th>\n",
       "      <td>11-12-2008 01:00</td>\n",
       "      <td>6</td>\n",
       "      <td>14</td>\n",
       "      <td>19</td>\n",
       "      <td>30</td>\n",
       "      <td>72</td>\n",
       "      <td>0.0</td>\n",
       "      <td>1013</td>\n",
       "      <td>19</td>\n",
       "      <td>10</td>\n",
       "      <td>4</td>\n",
       "      <td>NaN</td>\n",
       "    </tr>\n",
       "    <tr>\n",
       "      <th>2</th>\n",
       "      <td>11-12-2008 02:00</td>\n",
       "      <td>6</td>\n",
       "      <td>13</td>\n",
       "      <td>18</td>\n",
       "      <td>29</td>\n",
       "      <td>72</td>\n",
       "      <td>0.0</td>\n",
       "      <td>1013</td>\n",
       "      <td>18</td>\n",
       "      <td>10</td>\n",
       "      <td>4</td>\n",
       "      <td>NaN</td>\n",
       "    </tr>\n",
       "    <tr>\n",
       "      <th>3</th>\n",
       "      <td>11-12-2008 03:00</td>\n",
       "      <td>6</td>\n",
       "      <td>13</td>\n",
       "      <td>18</td>\n",
       "      <td>29</td>\n",
       "      <td>72</td>\n",
       "      <td>0.0</td>\n",
       "      <td>1013</td>\n",
       "      <td>18</td>\n",
       "      <td>10</td>\n",
       "      <td>4</td>\n",
       "      <td>NaN</td>\n",
       "    </tr>\n",
       "    <tr>\n",
       "      <th>4</th>\n",
       "      <td>11-12-2008 04:00</td>\n",
       "      <td>6</td>\n",
       "      <td>13</td>\n",
       "      <td>20</td>\n",
       "      <td>23</td>\n",
       "      <td>68</td>\n",
       "      <td>0.0</td>\n",
       "      <td>1014</td>\n",
       "      <td>20</td>\n",
       "      <td>10</td>\n",
       "      <td>4</td>\n",
       "      <td>NaN</td>\n",
       "    </tr>\n",
       "  </tbody>\n",
       "</table>\n",
       "</div>"
      ],
      "text/plain": [
       "          date_time  uvIndex  DewPointC  HeatIndexC  cloudcover  humidity   \n",
       "0  11-12-2008 00:00        6         13          18          31        72  \\\n",
       "1  11-12-2008 01:00        6         14          19          30        72   \n",
       "2  11-12-2008 02:00        6         13          18          29        72   \n",
       "3  11-12-2008 03:00        6         13          18          29        72   \n",
       "4  11-12-2008 04:00        6         13          20          23        68   \n",
       "\n",
       "   precipMM  pressure  tempC  visibility  windspeedKmph  Heat Stroke  \n",
       "0       0.0      1013     18          10              5          NaN  \n",
       "1       0.0      1013     19          10              4          NaN  \n",
       "2       0.0      1013     18          10              4          NaN  \n",
       "3       0.0      1013     18          10              4          NaN  \n",
       "4       0.0      1014     20          10              4          NaN  "
      ]
     },
     "execution_count": 12,
     "metadata": {},
     "output_type": "execute_result"
    }
   ],
   "source": [
    "data.head()"
   ]
  },
  {
   "cell_type": "code",
   "execution_count": 13,
   "id": "384a349d-7417-4a6f-a384-1d4a37117a4c",
   "metadata": {},
   "outputs": [
    {
     "data": {
      "text/plain": [
       "Index(['date_time', 'uvIndex', 'DewPointC', 'HeatIndexC', 'cloudcover',\n",
       "       'humidity', 'precipMM', 'pressure', 'tempC', 'visibility',\n",
       "       'windspeedKmph', 'Heat Stroke'],\n",
       "      dtype='object')"
      ]
     },
     "execution_count": 13,
     "metadata": {},
     "output_type": "execute_result"
    }
   ],
   "source": [
    "data.columns"
   ]
  },
  {
   "cell_type": "code",
   "execution_count": null,
   "id": "eaf20a55-a768-4430-a909-b473fe38aa2f",
   "metadata": {},
   "outputs": [],
   "source": []
  },
  {
   "cell_type": "markdown",
   "id": "f942bc28-2181-4fee-a2ad-41ef8845feb2",
   "metadata": {},
   "source": [
    "# Disease 1 : Heat Stroke"
   ]
  },
  {
   "cell_type": "raw",
   "id": "0edf4c36-112f-487b-8520-5f3f15845504",
   "metadata": {},
   "source": [
    "uvIndex:   UV >= 7\n",
    "\n",
    "DewPointC:  Temperature >= 18(°C)  \n",
    "\n",
    "HeatIndexC:  Temperature >= 32 (°C)\n",
    "\n",
    "cloudcover: Cloud Cover (%)\n",
    "\n",
    "humidity: Humidity >= 60(%)\n",
    "\n",
    "precipMM: Precipitation  0 (mm)\n",
    "\n",
    "pressure: Atmospheric Pressure (millibars)\n",
    "\n",
    "tempC:  temp > = 40(°C)\n",
    "\n",
    "visibility: Visibility (kilometers)\n",
    "\n",
    "windspeedKmph: Wind Speed (kilometers per hour)"
   ]
  },
  {
   "cell_type": "code",
   "execution_count": null,
   "id": "eb1406a0-8943-4098-91aa-2a64c775f104",
   "metadata": {},
   "outputs": [],
   "source": []
  }
 ],
 "metadata": {
  "kernelspec": {
   "display_name": "Python 3 (ipykernel)",
   "language": "python",
   "name": "python3"
  },
  "language_info": {
   "codemirror_mode": {
    "name": "ipython",
    "version": 3
   },
   "file_extension": ".py",
   "mimetype": "text/x-python",
   "name": "python",
   "nbconvert_exporter": "python",
   "pygments_lexer": "ipython3",
   "version": "3.10.2"
  }
 },
 "nbformat": 4,
 "nbformat_minor": 5
}
