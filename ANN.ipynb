{
 "cells": [
  {
   "cell_type": "code",
   "execution_count": 1,
   "id": "20f03ca5-8fcb-4332-9cdc-6f713d160779",
   "metadata": {},
   "outputs": [],
   "source": [
    "import numpy as np\n",
    "import pandas as pd"
   ]
  },
  {
   "cell_type": "code",
   "execution_count": 2,
   "id": "7e2b54db-6d82-4a5d-b636-07855d5925c7",
   "metadata": {},
   "outputs": [],
   "source": [
    "data =  pd.read_csv('D3.csv')"
   ]
  },
  {
   "cell_type": "code",
   "execution_count": 3,
   "id": "e4ff364d-563a-46fd-830d-a7ff405465f1",
   "metadata": {},
   "outputs": [
    {
     "data": {
      "text/html": [
       "<div>\n",
       "<style scoped>\n",
       "    .dataframe tbody tr th:only-of-type {\n",
       "        vertical-align: middle;\n",
       "    }\n",
       "\n",
       "    .dataframe tbody tr th {\n",
       "        vertical-align: top;\n",
       "    }\n",
       "\n",
       "    .dataframe thead th {\n",
       "        text-align: right;\n",
       "    }\n",
       "</style>\n",
       "<table border=\"1\" class=\"dataframe\">\n",
       "  <thead>\n",
       "    <tr style=\"text-align: right;\">\n",
       "      <th></th>\n",
       "      <th>humidity</th>\n",
       "      <th>precipMM</th>\n",
       "      <th>tempC</th>\n",
       "      <th>Common cold</th>\n",
       "      <th>Dengue</th>\n",
       "      <th>HeatStroke</th>\n",
       "    </tr>\n",
       "  </thead>\n",
       "  <tbody>\n",
       "    <tr>\n",
       "      <th>0</th>\n",
       "      <td>72</td>\n",
       "      <td>0.0</td>\n",
       "      <td>18</td>\n",
       "      <td>0</td>\n",
       "      <td>0</td>\n",
       "      <td>0</td>\n",
       "    </tr>\n",
       "    <tr>\n",
       "      <th>1</th>\n",
       "      <td>72</td>\n",
       "      <td>0.0</td>\n",
       "      <td>19</td>\n",
       "      <td>0</td>\n",
       "      <td>0</td>\n",
       "      <td>0</td>\n",
       "    </tr>\n",
       "    <tr>\n",
       "      <th>2</th>\n",
       "      <td>72</td>\n",
       "      <td>0.0</td>\n",
       "      <td>18</td>\n",
       "      <td>0</td>\n",
       "      <td>0</td>\n",
       "      <td>0</td>\n",
       "    </tr>\n",
       "    <tr>\n",
       "      <th>3</th>\n",
       "      <td>72</td>\n",
       "      <td>0.0</td>\n",
       "      <td>18</td>\n",
       "      <td>0</td>\n",
       "      <td>0</td>\n",
       "      <td>0</td>\n",
       "    </tr>\n",
       "    <tr>\n",
       "      <th>4</th>\n",
       "      <td>68</td>\n",
       "      <td>0.0</td>\n",
       "      <td>20</td>\n",
       "      <td>0</td>\n",
       "      <td>0</td>\n",
       "      <td>0</td>\n",
       "    </tr>\n",
       "    <tr>\n",
       "      <th>...</th>\n",
       "      <td>...</td>\n",
       "      <td>...</td>\n",
       "      <td>...</td>\n",
       "      <td>...</td>\n",
       "      <td>...</td>\n",
       "      <td>...</td>\n",
       "    </tr>\n",
       "    <tr>\n",
       "      <th>116131</th>\n",
       "      <td>28</td>\n",
       "      <td>0.0</td>\n",
       "      <td>30</td>\n",
       "      <td>0</td>\n",
       "      <td>0</td>\n",
       "      <td>1</td>\n",
       "    </tr>\n",
       "    <tr>\n",
       "      <th>116132</th>\n",
       "      <td>29</td>\n",
       "      <td>0.0</td>\n",
       "      <td>29</td>\n",
       "      <td>0</td>\n",
       "      <td>0</td>\n",
       "      <td>0</td>\n",
       "    </tr>\n",
       "    <tr>\n",
       "      <th>116133</th>\n",
       "      <td>30</td>\n",
       "      <td>0.0</td>\n",
       "      <td>27</td>\n",
       "      <td>0</td>\n",
       "      <td>0</td>\n",
       "      <td>0</td>\n",
       "    </tr>\n",
       "    <tr>\n",
       "      <th>116134</th>\n",
       "      <td>31</td>\n",
       "      <td>0.0</td>\n",
       "      <td>26</td>\n",
       "      <td>0</td>\n",
       "      <td>0</td>\n",
       "      <td>0</td>\n",
       "    </tr>\n",
       "    <tr>\n",
       "      <th>116135</th>\n",
       "      <td>32</td>\n",
       "      <td>0.0</td>\n",
       "      <td>25</td>\n",
       "      <td>0</td>\n",
       "      <td>0</td>\n",
       "      <td>0</td>\n",
       "    </tr>\n",
       "  </tbody>\n",
       "</table>\n",
       "<p>116136 rows × 6 columns</p>\n",
       "</div>"
      ],
      "text/plain": [
       "        humidity  precipMM  tempC  Common cold  Dengue  HeatStroke\n",
       "0             72       0.0     18            0       0           0\n",
       "1             72       0.0     19            0       0           0\n",
       "2             72       0.0     18            0       0           0\n",
       "3             72       0.0     18            0       0           0\n",
       "4             68       0.0     20            0       0           0\n",
       "...          ...       ...    ...          ...     ...         ...\n",
       "116131        28       0.0     30            0       0           1\n",
       "116132        29       0.0     29            0       0           0\n",
       "116133        30       0.0     27            0       0           0\n",
       "116134        31       0.0     26            0       0           0\n",
       "116135        32       0.0     25            0       0           0\n",
       "\n",
       "[116136 rows x 6 columns]"
      ]
     },
     "execution_count": 3,
     "metadata": {},
     "output_type": "execute_result"
    }
   ],
   "source": [
    "data"
   ]
  },
  {
   "cell_type": "code",
   "execution_count": 4,
   "id": "425ee400-e314-434f-8e17-4e50960ae998",
   "metadata": {},
   "outputs": [
    {
     "data": {
      "text/plain": [
       "Index(['humidity', 'precipMM', 'tempC', 'Common cold', 'Dengue', 'HeatStroke'], dtype='object')"
      ]
     },
     "execution_count": 4,
     "metadata": {},
     "output_type": "execute_result"
    }
   ],
   "source": [
    "data.columns"
   ]
  },
  {
   "cell_type": "code",
   "execution_count": 5,
   "id": "bf8f7688-ee8e-4644-889b-a97591e886de",
   "metadata": {},
   "outputs": [],
   "source": [
    "X = data[['humidity', 'precipMM', 'tempC']]\n",
    "y = data[['HeatStroke']]\n",
    "# data['HeatStroke'].value_counts()"
   ]
  },
  {
   "cell_type": "code",
   "execution_count": 6,
   "id": "1373d541-e491-446c-9a7a-a9af18e92cac",
   "metadata": {},
   "outputs": [],
   "source": [
    "from sklearn.model_selection import train_test_split"
   ]
  },
  {
   "cell_type": "code",
   "execution_count": 7,
   "id": "e3243579-4c01-41c8-ac28-4fa16487bb0a",
   "metadata": {},
   "outputs": [],
   "source": [
    "X_train,X_test,y_train,y_test = train_test_split(X,y,test_size=0.2,stratify=y,random_state=0)"
   ]
  },
  {
   "cell_type": "code",
   "execution_count": null,
   "id": "b1c35c63-388f-404d-a3ef-bee8c7e9dd44",
   "metadata": {},
   "outputs": [],
   "source": []
  },
  {
   "cell_type": "code",
   "execution_count": 8,
   "id": "e9fb1456-b21f-4eb5-8a12-6b279c5112fb",
   "metadata": {},
   "outputs": [
    {
     "name": "stdout",
     "output_type": "stream",
     "text": [
      "(116136, 3)\n",
      "(116136, 1)\n"
     ]
    }
   ],
   "source": [
    "print(X.shape)\n",
    "print(y.shape)\n",
    "# X_train_trf"
   ]
  },
  {
   "cell_type": "code",
   "execution_count": 1,
   "id": "91c25b99-9d84-4b11-bf94-4cc147aa2c07",
   "metadata": {},
   "outputs": [],
   "source": [
    "import tensorflow\n",
    "from tensorflow import keras\n",
    "from tensorflow.keras import Sequential \n",
    "from tensorflow.keras.layers import Dense"
   ]
  },
  {
   "cell_type": "code",
   "execution_count": 10,
   "id": "68ea7ba3-39c2-4280-84d2-de8517089aa6",
   "metadata": {},
   "outputs": [],
   "source": [
    "# Initialize the model\n",
    "model = Sequential()\n",
    "\n",
    "# Add layers to the model\n",
    "model.add(Dense(8, activation='sigmoid', input_dim=3))  \n",
    "model.add(Dense(8, activation='sigmoid'))              \n",
    "model.add(Dense(1, activation='sigmoid')) "
   ]
  },
  {
   "cell_type": "code",
   "execution_count": 11,
   "id": "44e9c7ed-2d63-47c8-abb1-bbf86122ccb0",
   "metadata": {},
   "outputs": [
    {
     "name": "stdout",
     "output_type": "stream",
     "text": [
      "Model: \"sequential\"\n",
      "_________________________________________________________________\n",
      " Layer (type)                Output Shape              Param #   \n",
      "=================================================================\n",
      " dense (Dense)               (None, 8)                 32        \n",
      "                                                                 \n",
      " dense_1 (Dense)             (None, 8)                 72        \n",
      "                                                                 \n",
      " dense_2 (Dense)             (None, 1)                 9         \n",
      "                                                                 \n",
      "=================================================================\n",
      "Total params: 113 (452.00 Byte)\n",
      "Trainable params: 113 (452.00 Byte)\n",
      "Non-trainable params: 0 (0.00 Byte)\n",
      "_________________________________________________________________\n"
     ]
    }
   ],
   "source": [
    "model.summary()"
   ]
  },
  {
   "cell_type": "code",
   "execution_count": 12,
   "id": "d532349e-9d1c-4123-8757-5f524b674b0b",
   "metadata": {},
   "outputs": [],
   "source": [
    "model.compile(optimizer='Adam',loss='binary_crossentropy')"
   ]
  },
  {
   "cell_type": "code",
   "execution_count": 13,
   "id": "074aff19-14bd-40d5-b9ea-7a8a7e79ccda",
   "metadata": {},
   "outputs": [
    {
     "name": "stdout",
     "output_type": "stream",
     "text": [
      "Epoch 1/10\n",
      "1487/1487 [==============================] - 7s 3ms/step - loss: 0.2103 - val_loss: 0.0987\n",
      "Epoch 2/10\n",
      "1487/1487 [==============================] - 5s 3ms/step - loss: 0.0831 - val_loss: 0.0759\n",
      "Epoch 3/10\n",
      "1487/1487 [==============================] - 4s 3ms/step - loss: 0.0746 - val_loss: 0.0720\n",
      "Epoch 4/10\n",
      "1487/1487 [==============================] - 4s 3ms/step - loss: 0.0715 - val_loss: 0.0690\n",
      "Epoch 5/10\n",
      "1487/1487 [==============================] - 4s 3ms/step - loss: 0.0693 - val_loss: 0.0675\n",
      "Epoch 6/10\n",
      "1487/1487 [==============================] - 5s 3ms/step - loss: 0.0676 - val_loss: 0.0660\n",
      "Epoch 7/10\n",
      "1487/1487 [==============================] - 5s 3ms/step - loss: 0.0660 - val_loss: 0.0660\n",
      "Epoch 8/10\n",
      "1487/1487 [==============================] - 4s 3ms/step - loss: 0.0644 - val_loss: 0.0623\n",
      "Epoch 9/10\n",
      "1487/1487 [==============================] - 4s 2ms/step - loss: 0.0624 - val_loss: 0.0602\n",
      "Epoch 10/10\n",
      "1487/1487 [==============================] - 4s 3ms/step - loss: 0.0596 - val_loss: 0.0572\n"
     ]
    },
    {
     "data": {
      "text/plain": [
       "<keras.src.callbacks.History at 0x15d907d1ff0>"
      ]
     },
     "execution_count": 13,
     "metadata": {},
     "output_type": "execute_result"
    }
   ],
   "source": [
    " model.fit(X_train,y_train,batch_size=50,epochs=10,verbose=1,validation_split=0.2)"
   ]
  },
  {
   "cell_type": "code",
   "execution_count": 14,
   "id": "e9db1af6-ef9c-425f-8733-84e7c05cd8ca",
   "metadata": {},
   "outputs": [
    {
     "data": {
      "text/plain": [
       "[array([[ 0.12182722,  0.2687768 , -0.3721646 , -0.64656043,  0.05703998,\n",
       "         -0.55143404, -0.30156294, -0.04070832],\n",
       "        [ 0.44648626,  0.44049427, -0.31352234, -0.04145485, -0.3407682 ,\n",
       "          1.8839573 , -0.5644448 , -0.8206876 ],\n",
       "        [ 0.80703235, -0.34387136,  0.45178396, -0.6787268 , -0.13784193,\n",
       "          0.27480727,  0.37639236, -0.44355753]], dtype=float32),\n",
       " array([ 9.4925640e-03,  1.1577630e+00, -7.4641782e-01, -7.4407503e-06,\n",
       "         1.7111884e+00, -2.1529920e+00, -7.8334242e-01, -2.7522817e-01],\n",
       "       dtype=float32)]"
      ]
     },
     "execution_count": 14,
     "metadata": {},
     "output_type": "execute_result"
    }
   ],
   "source": [
    "weights = model.layers[0].get_weights()\n",
    "weights"
   ]
  },
  {
   "cell_type": "code",
   "execution_count": 15,
   "id": "53ef5f79-d359-4b74-b6c8-2d881ddd141e",
   "metadata": {},
   "outputs": [
    {
     "name": "stdout",
     "output_type": "stream",
     "text": [
      "726/726 [==============================] - 2s 2ms/step\n"
     ]
    }
   ],
   "source": [
    "y_pred = model.predict(X_test)"
   ]
  },
  {
   "cell_type": "code",
   "execution_count": 16,
   "id": "c304bd9d-6c8b-478f-809d-167ca611a58d",
   "metadata": {},
   "outputs": [
    {
     "data": {
      "text/plain": [
       "array([[5.9283015e-05],\n",
       "       [5.9363283e-05],\n",
       "       [6.0527524e-05],\n",
       "       ...,\n",
       "       [9.6650660e-01],\n",
       "       [6.2688676e-05],\n",
       "       [7.0760550e-05]], dtype=float32)"
      ]
     },
     "execution_count": 16,
     "metadata": {},
     "output_type": "execute_result"
    }
   ],
   "source": [
    "y_pred.shape\n",
    "y_pred"
   ]
  },
  {
   "cell_type": "code",
   "execution_count": 17,
   "id": "89a9ee5e-0561-4107-b0f0-55f36c63bf4d",
   "metadata": {},
   "outputs": [
    {
     "name": "stdout",
     "output_type": "stream",
     "text": [
      "Accuracy: 0.9730067160323748\n"
     ]
    }
   ],
   "source": [
    "from sklearn.metrics import accuracy_score\n",
    "import numpy as np\n",
    "\n",
    "# Convert probabilities to binary predictions using a threshold (e.g., 0.5)\n",
    "y_pred_binary = np.where(y_pred >= 0.5, 1, 0)\n",
    "\n",
    "# Calculate accuracy\n",
    "accuracy = accuracy_score(y_test, y_pred_binary)\n",
    "print(\"Accuracy:\", accuracy)\n"
   ]
  },
  {
   "cell_type": "code",
   "execution_count": 18,
   "id": "2769b3e8-304d-42df-b636-71cfd763a602",
   "metadata": {},
   "outputs": [],
   "source": []
  },
  {
   "cell_type": "code",
   "execution_count": 19,
   "id": "0e83b860-16e1-4fe2-9047-45d0c6e10600",
   "metadata": {},
   "outputs": [
    {
     "name": "stdin",
     "output_type": "stream",
     "text": [
      "Enter humidity:  20\n",
      "Enter precipMM:  0\n",
      "Enter tempC:  35\n"
     ]
    },
    {
     "name": "stdout",
     "output_type": "stream",
     "text": [
      "1/1 [==============================] - 0s 137ms/step\n",
      "The model predicts 86.05% chance of HeatStroke.\n"
     ]
    }
   ],
   "source": [
    "import numpy as np\n",
    "\n",
    "# Prompt the user to input values for the features\n",
    "humidity = float(input(\"Enter humidity: \"))\n",
    "precipMM = float(input(\"Enter precipMM: \"))\n",
    "tempC = float(input(\"Enter tempC: \"))\n",
    "\n",
    "# Preprocess the user input (scale the features)\n",
    "user_input = [[humidity, precipMM, tempC]]\n",
    "\n",
    "# Use the trained model to make predictions\n",
    "prediction = model.predict(user_input)\n",
    "\n",
    "# Convert the prediction probability to a percentage\n",
    "prediction_percentage = prediction[0][0] * 100\n",
    "\n",
    "# Display the prediction percentage to the user\n",
    "print(\"The model predicts {:.2f}% chance of HeatStroke.\".format(prediction_percentage))\n"
   ]
  },
  {
   "cell_type": "code",
   "execution_count": 21,
   "id": "4b5a5332-26ba-4987-bc97-4895572d60fa",
   "metadata": {},
   "outputs": [],
   "source": [
    "# model.save(\"HeatStroke_model.h5\")"
   ]
  },
  {
   "cell_type": "code",
   "execution_count": null,
   "id": "e9559d41-987a-42a1-bdb1-74e9092cb579",
   "metadata": {},
   "outputs": [],
   "source": []
  }
 ],
 "metadata": {
  "kernelspec": {
   "display_name": "Python 3 (ipykernel)",
   "language": "python",
   "name": "python3"
  },
  "language_info": {
   "codemirror_mode": {
    "name": "ipython",
    "version": 3
   },
   "file_extension": ".py",
   "mimetype": "text/x-python",
   "name": "python",
   "nbconvert_exporter": "python",
   "pygments_lexer": "ipython3",
   "version": "3.10.2"
  }
 },
 "nbformat": 4,
 "nbformat_minor": 5
}
