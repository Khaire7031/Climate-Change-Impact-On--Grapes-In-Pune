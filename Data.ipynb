{
 "cells": [
  {
   "cell_type": "code",
   "execution_count": 1,
   "id": "a72b42e5-f389-4ad5-a643-9fc4246fbadd",
   "metadata": {},
   "outputs": [
    {
     "name": "stdout",
     "output_type": "stream",
     "text": [
      "Data Preprocessing\n"
     ]
    }
   ],
   "source": [
    "print(\"Data Preprocessing\")"
   ]
  },
  {
   "cell_type": "code",
   "execution_count": 2,
   "id": "1c1438bb-7e64-4d62-a05f-73c8cb742666",
   "metadata": {},
   "outputs": [],
   "source": [
    "import pandas as pd"
   ]
  },
  {
   "cell_type": "markdown",
   "id": "8a5ba3bb-c8b6-42ff-97f2-94f2f2e55c00",
   "metadata": {},
   "source": [
    "# Read Data"
   ]
  },
  {
   "cell_type": "code",
   "execution_count": 11,
   "id": "efef9057-a65e-4855-8519-a59f3630635f",
   "metadata": {},
   "outputs": [],
   "source": [
    "data = pd.read_csv(\"pune.csv\")"
   ]
  },
  {
   "cell_type": "code",
   "execution_count": 10,
   "id": "b6b0ae53-affa-429b-85bf-4eb5b471cfe8",
   "metadata": {},
   "outputs": [
    {
     "data": {
      "text/html": [
       "<div>\n",
       "<style scoped>\n",
       "    .dataframe tbody tr th:only-of-type {\n",
       "        vertical-align: middle;\n",
       "    }\n",
       "\n",
       "    .dataframe tbody tr th {\n",
       "        vertical-align: top;\n",
       "    }\n",
       "\n",
       "    .dataframe thead th {\n",
       "        text-align: right;\n",
       "    }\n",
       "</style>\n",
       "<table border=\"1\" class=\"dataframe\">\n",
       "  <thead>\n",
       "    <tr style=\"text-align: right;\">\n",
       "      <th></th>\n",
       "      <th>date_time</th>\n",
       "      <th>maxtempC</th>\n",
       "      <th>mintempC</th>\n",
       "      <th>totalSnow_cm</th>\n",
       "      <th>sunHour</th>\n",
       "      <th>uvIndex</th>\n",
       "      <th>moon_illumination</th>\n",
       "      <th>moonrise</th>\n",
       "      <th>moonset</th>\n",
       "      <th>sunrise</th>\n",
       "      <th>...</th>\n",
       "      <th>WindGustKmph</th>\n",
       "      <th>cloudcover</th>\n",
       "      <th>humidity</th>\n",
       "      <th>precipMM</th>\n",
       "      <th>pressure</th>\n",
       "      <th>tempC</th>\n",
       "      <th>visibility</th>\n",
       "      <th>winddirDegree</th>\n",
       "      <th>windspeedKmph</th>\n",
       "      <th>location</th>\n",
       "    </tr>\n",
       "  </thead>\n",
       "  <tbody>\n",
       "    <tr>\n",
       "      <th>0</th>\n",
       "      <td>2008-12-11 00:00:00</td>\n",
       "      <td>30</td>\n",
       "      <td>18</td>\n",
       "      <td>0.0</td>\n",
       "      <td>11.0</td>\n",
       "      <td>6</td>\n",
       "      <td>93</td>\n",
       "      <td>04:33 PM</td>\n",
       "      <td>05:13 AM</td>\n",
       "      <td>06:57 AM</td>\n",
       "      <td>...</td>\n",
       "      <td>10</td>\n",
       "      <td>31</td>\n",
       "      <td>72</td>\n",
       "      <td>0.0</td>\n",
       "      <td>1013</td>\n",
       "      <td>18</td>\n",
       "      <td>10</td>\n",
       "      <td>114</td>\n",
       "      <td>5</td>\n",
       "      <td>pune</td>\n",
       "    </tr>\n",
       "    <tr>\n",
       "      <th>1</th>\n",
       "      <td>2008-12-11 01:00:00</td>\n",
       "      <td>30</td>\n",
       "      <td>18</td>\n",
       "      <td>0.0</td>\n",
       "      <td>11.0</td>\n",
       "      <td>6</td>\n",
       "      <td>93</td>\n",
       "      <td>04:33 PM</td>\n",
       "      <td>05:13 AM</td>\n",
       "      <td>06:57 AM</td>\n",
       "      <td>...</td>\n",
       "      <td>9</td>\n",
       "      <td>30</td>\n",
       "      <td>72</td>\n",
       "      <td>0.0</td>\n",
       "      <td>1013</td>\n",
       "      <td>19</td>\n",
       "      <td>10</td>\n",
       "      <td>125</td>\n",
       "      <td>4</td>\n",
       "      <td>pune</td>\n",
       "    </tr>\n",
       "    <tr>\n",
       "      <th>2</th>\n",
       "      <td>2008-12-11 02:00:00</td>\n",
       "      <td>30</td>\n",
       "      <td>18</td>\n",
       "      <td>0.0</td>\n",
       "      <td>11.0</td>\n",
       "      <td>6</td>\n",
       "      <td>93</td>\n",
       "      <td>04:33 PM</td>\n",
       "      <td>05:13 AM</td>\n",
       "      <td>06:57 AM</td>\n",
       "      <td>...</td>\n",
       "      <td>8</td>\n",
       "      <td>29</td>\n",
       "      <td>72</td>\n",
       "      <td>0.0</td>\n",
       "      <td>1013</td>\n",
       "      <td>18</td>\n",
       "      <td>10</td>\n",
       "      <td>136</td>\n",
       "      <td>4</td>\n",
       "      <td>pune</td>\n",
       "    </tr>\n",
       "    <tr>\n",
       "      <th>3</th>\n",
       "      <td>2008-12-11 03:00:00</td>\n",
       "      <td>30</td>\n",
       "      <td>18</td>\n",
       "      <td>0.0</td>\n",
       "      <td>11.0</td>\n",
       "      <td>6</td>\n",
       "      <td>93</td>\n",
       "      <td>04:33 PM</td>\n",
       "      <td>05:13 AM</td>\n",
       "      <td>06:57 AM</td>\n",
       "      <td>...</td>\n",
       "      <td>8</td>\n",
       "      <td>29</td>\n",
       "      <td>72</td>\n",
       "      <td>0.0</td>\n",
       "      <td>1013</td>\n",
       "      <td>18</td>\n",
       "      <td>10</td>\n",
       "      <td>147</td>\n",
       "      <td>4</td>\n",
       "      <td>pune</td>\n",
       "    </tr>\n",
       "    <tr>\n",
       "      <th>4</th>\n",
       "      <td>2008-12-11 04:00:00</td>\n",
       "      <td>30</td>\n",
       "      <td>18</td>\n",
       "      <td>0.0</td>\n",
       "      <td>11.0</td>\n",
       "      <td>6</td>\n",
       "      <td>93</td>\n",
       "      <td>04:33 PM</td>\n",
       "      <td>05:13 AM</td>\n",
       "      <td>06:57 AM</td>\n",
       "      <td>...</td>\n",
       "      <td>7</td>\n",
       "      <td>23</td>\n",
       "      <td>68</td>\n",
       "      <td>0.0</td>\n",
       "      <td>1014</td>\n",
       "      <td>20</td>\n",
       "      <td>10</td>\n",
       "      <td>136</td>\n",
       "      <td>4</td>\n",
       "      <td>pune</td>\n",
       "    </tr>\n",
       "  </tbody>\n",
       "</table>\n",
       "<p>5 rows × 25 columns</p>\n",
       "</div>"
      ],
      "text/plain": [
       "             date_time  maxtempC  mintempC  totalSnow_cm  sunHour  uvIndex   \n",
       "0  2008-12-11 00:00:00        30        18           0.0     11.0        6  \\\n",
       "1  2008-12-11 01:00:00        30        18           0.0     11.0        6   \n",
       "2  2008-12-11 02:00:00        30        18           0.0     11.0        6   \n",
       "3  2008-12-11 03:00:00        30        18           0.0     11.0        6   \n",
       "4  2008-12-11 04:00:00        30        18           0.0     11.0        6   \n",
       "\n",
       "   moon_illumination  moonrise   moonset   sunrise  ... WindGustKmph   \n",
       "0                 93  04:33 PM  05:13 AM  06:57 AM  ...           10  \\\n",
       "1                 93  04:33 PM  05:13 AM  06:57 AM  ...            9   \n",
       "2                 93  04:33 PM  05:13 AM  06:57 AM  ...            8   \n",
       "3                 93  04:33 PM  05:13 AM  06:57 AM  ...            8   \n",
       "4                 93  04:33 PM  05:13 AM  06:57 AM  ...            7   \n",
       "\n",
       "   cloudcover  humidity  precipMM  pressure  tempC  visibility  winddirDegree   \n",
       "0          31        72       0.0      1013     18          10            114  \\\n",
       "1          30        72       0.0      1013     19          10            125   \n",
       "2          29        72       0.0      1013     18          10            136   \n",
       "3          29        72       0.0      1013     18          10            147   \n",
       "4          23        68       0.0      1014     20          10            136   \n",
       "\n",
       "   windspeedKmph  location  \n",
       "0              5      pune  \n",
       "1              4      pune  \n",
       "2              4      pune  \n",
       "3              4      pune  \n",
       "4              4      pune  \n",
       "\n",
       "[5 rows x 25 columns]"
      ]
     },
     "execution_count": 10,
     "metadata": {},
     "output_type": "execute_result"
    }
   ],
   "source": [
    "data.columns\n",
    "data.head()"
   ]
  },
  {
   "cell_type": "code",
   "execution_count": 12,
   "id": "3b18a187-1013-4675-8d22-294c09b839f3",
   "metadata": {},
   "outputs": [
    {
     "data": {
      "text/plain": [
       "Index(['date_time', 'maxtempC', 'mintempC', 'totalSnow_cm', 'sunHour',\n",
       "       'uvIndex', 'moon_illumination', 'moonrise', 'moonset', 'sunrise',\n",
       "       'sunset', 'DewPointC', 'FeelsLikeC', 'HeatIndexC', 'WindChillC',\n",
       "       'WindGustKmph', 'cloudcover', 'humidity', 'precipMM', 'pressure',\n",
       "       'tempC', 'visibility', 'winddirDegree', 'windspeedKmph', 'location'],\n",
       "      dtype='object')"
      ]
     },
     "execution_count": 12,
     "metadata": {},
     "output_type": "execute_result"
    }
   ],
   "source": [
    "data.columns"
   ]
  },
  {
   "cell_type": "code",
   "execution_count": 13,
   "id": "f9bdaeeb-e8c1-4594-8677-b83e9aca45e4",
   "metadata": {},
   "outputs": [
    {
     "data": {
      "text/html": [
       "<div>\n",
       "<style scoped>\n",
       "    .dataframe tbody tr th:only-of-type {\n",
       "        vertical-align: middle;\n",
       "    }\n",
       "\n",
       "    .dataframe tbody tr th {\n",
       "        vertical-align: top;\n",
       "    }\n",
       "\n",
       "    .dataframe thead th {\n",
       "        text-align: right;\n",
       "    }\n",
       "</style>\n",
       "<table border=\"1\" class=\"dataframe\">\n",
       "  <thead>\n",
       "    <tr style=\"text-align: right;\">\n",
       "      <th></th>\n",
       "      <th>date_time</th>\n",
       "      <th>uvIndex</th>\n",
       "      <th>DewPointC</th>\n",
       "      <th>HeatIndexC</th>\n",
       "      <th>cloudcover</th>\n",
       "      <th>humidity</th>\n",
       "      <th>precipMM</th>\n",
       "      <th>pressure</th>\n",
       "      <th>tempC</th>\n",
       "      <th>visibility</th>\n",
       "      <th>windspeedKmph</th>\n",
       "    </tr>\n",
       "  </thead>\n",
       "  <tbody>\n",
       "    <tr>\n",
       "      <th>0</th>\n",
       "      <td>2008-12-11 00:00:00</td>\n",
       "      <td>6</td>\n",
       "      <td>13</td>\n",
       "      <td>18</td>\n",
       "      <td>31</td>\n",
       "      <td>72</td>\n",
       "      <td>0.0</td>\n",
       "      <td>1013</td>\n",
       "      <td>18</td>\n",
       "      <td>10</td>\n",
       "      <td>5</td>\n",
       "    </tr>\n",
       "    <tr>\n",
       "      <th>1</th>\n",
       "      <td>2008-12-11 01:00:00</td>\n",
       "      <td>6</td>\n",
       "      <td>14</td>\n",
       "      <td>19</td>\n",
       "      <td>30</td>\n",
       "      <td>72</td>\n",
       "      <td>0.0</td>\n",
       "      <td>1013</td>\n",
       "      <td>19</td>\n",
       "      <td>10</td>\n",
       "      <td>4</td>\n",
       "    </tr>\n",
       "    <tr>\n",
       "      <th>2</th>\n",
       "      <td>2008-12-11 02:00:00</td>\n",
       "      <td>6</td>\n",
       "      <td>13</td>\n",
       "      <td>18</td>\n",
       "      <td>29</td>\n",
       "      <td>72</td>\n",
       "      <td>0.0</td>\n",
       "      <td>1013</td>\n",
       "      <td>18</td>\n",
       "      <td>10</td>\n",
       "      <td>4</td>\n",
       "    </tr>\n",
       "    <tr>\n",
       "      <th>3</th>\n",
       "      <td>2008-12-11 03:00:00</td>\n",
       "      <td>6</td>\n",
       "      <td>13</td>\n",
       "      <td>18</td>\n",
       "      <td>29</td>\n",
       "      <td>72</td>\n",
       "      <td>0.0</td>\n",
       "      <td>1013</td>\n",
       "      <td>18</td>\n",
       "      <td>10</td>\n",
       "      <td>4</td>\n",
       "    </tr>\n",
       "    <tr>\n",
       "      <th>4</th>\n",
       "      <td>2008-12-11 04:00:00</td>\n",
       "      <td>6</td>\n",
       "      <td>13</td>\n",
       "      <td>20</td>\n",
       "      <td>23</td>\n",
       "      <td>68</td>\n",
       "      <td>0.0</td>\n",
       "      <td>1014</td>\n",
       "      <td>20</td>\n",
       "      <td>10</td>\n",
       "      <td>4</td>\n",
       "    </tr>\n",
       "  </tbody>\n",
       "</table>\n",
       "</div>"
      ],
      "text/plain": [
       "             date_time  uvIndex  DewPointC  HeatIndexC  cloudcover  humidity   \n",
       "0  2008-12-11 00:00:00        6         13          18          31        72  \\\n",
       "1  2008-12-11 01:00:00        6         14          19          30        72   \n",
       "2  2008-12-11 02:00:00        6         13          18          29        72   \n",
       "3  2008-12-11 03:00:00        6         13          18          29        72   \n",
       "4  2008-12-11 04:00:00        6         13          20          23        68   \n",
       "\n",
       "   precipMM  pressure  tempC  visibility  windspeedKmph  \n",
       "0       0.0      1013     18          10              5  \n",
       "1       0.0      1013     19          10              4  \n",
       "2       0.0      1013     18          10              4  \n",
       "3       0.0      1013     18          10              4  \n",
       "4       0.0      1014     20          10              4  "
      ]
     },
     "execution_count": 13,
     "metadata": {},
     "output_type": "execute_result"
    }
   ],
   "source": [
    "selected_columns = ['date_time', 'uvIndex', 'DewPointC', 'HeatIndexC', 'cloudcover', 'humidity','precipMM','pressure','tempC','visibility','windspeedKmph']\n",
    "new_pune = data[selected_columns]\n",
    "\n",
    "new_pune.to_csv('new_pune_data.csv', index=False)\n",
    "\n",
    "new_pune.head()\n"
   ]
  },
  {
   "cell_type": "markdown",
   "id": "10a9c5e5-6403-4d35-82d1-44a5dfd09237",
   "metadata": {},
   "source": [
    "# Data Preprocessing\n"
   ]
  },
  {
   "cell_type": "code",
   "execution_count": 14,
   "id": "c4761c75-cec5-49a2-a383-086c5c413964",
   "metadata": {},
   "outputs": [],
   "source": [
    "data = pd.read_csv(\"new_pune_data.csv\");"
   ]
  },
  {
   "cell_type": "code",
   "execution_count": 15,
   "id": "2bfa683a-adcb-4df5-8ae6-3888584b9673",
   "metadata": {},
   "outputs": [
    {
     "data": {
      "text/html": [
       "<div>\n",
       "<style scoped>\n",
       "    .dataframe tbody tr th:only-of-type {\n",
       "        vertical-align: middle;\n",
       "    }\n",
       "\n",
       "    .dataframe tbody tr th {\n",
       "        vertical-align: top;\n",
       "    }\n",
       "\n",
       "    .dataframe thead th {\n",
       "        text-align: right;\n",
       "    }\n",
       "</style>\n",
       "<table border=\"1\" class=\"dataframe\">\n",
       "  <thead>\n",
       "    <tr style=\"text-align: right;\">\n",
       "      <th></th>\n",
       "      <th>date_time</th>\n",
       "      <th>uvIndex</th>\n",
       "      <th>DewPointC</th>\n",
       "      <th>HeatIndexC</th>\n",
       "      <th>cloudcover</th>\n",
       "      <th>humidity</th>\n",
       "      <th>precipMM</th>\n",
       "      <th>pressure</th>\n",
       "      <th>tempC</th>\n",
       "      <th>visibility</th>\n",
       "      <th>windspeedKmph</th>\n",
       "    </tr>\n",
       "  </thead>\n",
       "  <tbody>\n",
       "    <tr>\n",
       "      <th>0</th>\n",
       "      <td>2008-12-11 00:00:00</td>\n",
       "      <td>6</td>\n",
       "      <td>13</td>\n",
       "      <td>18</td>\n",
       "      <td>31</td>\n",
       "      <td>72</td>\n",
       "      <td>0.0</td>\n",
       "      <td>1013</td>\n",
       "      <td>18</td>\n",
       "      <td>10</td>\n",
       "      <td>5</td>\n",
       "    </tr>\n",
       "    <tr>\n",
       "      <th>1</th>\n",
       "      <td>2008-12-11 01:00:00</td>\n",
       "      <td>6</td>\n",
       "      <td>14</td>\n",
       "      <td>19</td>\n",
       "      <td>30</td>\n",
       "      <td>72</td>\n",
       "      <td>0.0</td>\n",
       "      <td>1013</td>\n",
       "      <td>19</td>\n",
       "      <td>10</td>\n",
       "      <td>4</td>\n",
       "    </tr>\n",
       "    <tr>\n",
       "      <th>2</th>\n",
       "      <td>2008-12-11 02:00:00</td>\n",
       "      <td>6</td>\n",
       "      <td>13</td>\n",
       "      <td>18</td>\n",
       "      <td>29</td>\n",
       "      <td>72</td>\n",
       "      <td>0.0</td>\n",
       "      <td>1013</td>\n",
       "      <td>18</td>\n",
       "      <td>10</td>\n",
       "      <td>4</td>\n",
       "    </tr>\n",
       "    <tr>\n",
       "      <th>3</th>\n",
       "      <td>2008-12-11 03:00:00</td>\n",
       "      <td>6</td>\n",
       "      <td>13</td>\n",
       "      <td>18</td>\n",
       "      <td>29</td>\n",
       "      <td>72</td>\n",
       "      <td>0.0</td>\n",
       "      <td>1013</td>\n",
       "      <td>18</td>\n",
       "      <td>10</td>\n",
       "      <td>4</td>\n",
       "    </tr>\n",
       "    <tr>\n",
       "      <th>4</th>\n",
       "      <td>2008-12-11 04:00:00</td>\n",
       "      <td>6</td>\n",
       "      <td>13</td>\n",
       "      <td>20</td>\n",
       "      <td>23</td>\n",
       "      <td>68</td>\n",
       "      <td>0.0</td>\n",
       "      <td>1014</td>\n",
       "      <td>20</td>\n",
       "      <td>10</td>\n",
       "      <td>4</td>\n",
       "    </tr>\n",
       "  </tbody>\n",
       "</table>\n",
       "</div>"
      ],
      "text/plain": [
       "             date_time  uvIndex  DewPointC  HeatIndexC  cloudcover  humidity   \n",
       "0  2008-12-11 00:00:00        6         13          18          31        72  \\\n",
       "1  2008-12-11 01:00:00        6         14          19          30        72   \n",
       "2  2008-12-11 02:00:00        6         13          18          29        72   \n",
       "3  2008-12-11 03:00:00        6         13          18          29        72   \n",
       "4  2008-12-11 04:00:00        6         13          20          23        68   \n",
       "\n",
       "   precipMM  pressure  tempC  visibility  windspeedKmph  \n",
       "0       0.0      1013     18          10              5  \n",
       "1       0.0      1013     19          10              4  \n",
       "2       0.0      1013     18          10              4  \n",
       "3       0.0      1013     18          10              4  \n",
       "4       0.0      1014     20          10              4  "
      ]
     },
     "execution_count": 15,
     "metadata": {},
     "output_type": "execute_result"
    }
   ],
   "source": [
    "data.head()"
   ]
  },
  {
   "cell_type": "code",
   "execution_count": 17,
   "id": "d7aaacbf-67d5-4a1f-9f97-f04e3924608d",
   "metadata": {},
   "outputs": [
    {
     "name": "stdout",
     "output_type": "stream",
     "text": [
      "<class 'pandas.core.frame.DataFrame'>\n",
      "RangeIndex: 116136 entries, 0 to 116135\n",
      "Data columns (total 11 columns):\n",
      " #   Column         Non-Null Count   Dtype  \n",
      "---  ------         --------------   -----  \n",
      " 0   date_time      116136 non-null  object \n",
      " 1   uvIndex        116136 non-null  int64  \n",
      " 2   DewPointC      116136 non-null  int64  \n",
      " 3   HeatIndexC     116136 non-null  int64  \n",
      " 4   cloudcover     116136 non-null  int64  \n",
      " 5   humidity       116136 non-null  int64  \n",
      " 6   precipMM       116136 non-null  float64\n",
      " 7   pressure       116136 non-null  int64  \n",
      " 8   tempC          116136 non-null  int64  \n",
      " 9   visibility     116136 non-null  int64  \n",
      " 10  windspeedKmph  116136 non-null  int64  \n",
      "dtypes: float64(1), int64(9), object(1)\n",
      "memory usage: 9.7+ MB\n"
     ]
    }
   ],
   "source": [
    "data.info()"
   ]
  },
  {
   "cell_type": "code",
   "execution_count": 24,
   "id": "e30c20d9-0fd5-40f0-9d81-124c5753b68e",
   "metadata": {},
   "outputs": [
    {
     "data": {
      "text/html": [
       "<div>\n",
       "<style scoped>\n",
       "    .dataframe tbody tr th:only-of-type {\n",
       "        vertical-align: middle;\n",
       "    }\n",
       "\n",
       "    .dataframe tbody tr th {\n",
       "        vertical-align: top;\n",
       "    }\n",
       "\n",
       "    .dataframe thead th {\n",
       "        text-align: right;\n",
       "    }\n",
       "</style>\n",
       "<table border=\"1\" class=\"dataframe\">\n",
       "  <thead>\n",
       "    <tr style=\"text-align: right;\">\n",
       "      <th></th>\n",
       "      <th>uvIndex</th>\n",
       "      <th>DewPointC</th>\n",
       "      <th>HeatIndexC</th>\n",
       "      <th>cloudcover</th>\n",
       "      <th>humidity</th>\n",
       "      <th>precipMM</th>\n",
       "      <th>pressure</th>\n",
       "      <th>tempC</th>\n",
       "      <th>visibility</th>\n",
       "      <th>windspeedKmph</th>\n",
       "    </tr>\n",
       "  </thead>\n",
       "  <tbody>\n",
       "    <tr>\n",
       "      <th>count</th>\n",
       "      <td>116136.000000</td>\n",
       "      <td>116136.000000</td>\n",
       "      <td>116136.000000</td>\n",
       "      <td>116136.00000</td>\n",
       "      <td>116136.000000</td>\n",
       "      <td>116136.000000</td>\n",
       "      <td>116136.000000</td>\n",
       "      <td>116136.000000</td>\n",
       "      <td>116136.000000</td>\n",
       "      <td>116136.000000</td>\n",
       "    </tr>\n",
       "    <tr>\n",
       "      <th>mean</th>\n",
       "      <td>6.208927</td>\n",
       "      <td>15.141722</td>\n",
       "      <td>26.364383</td>\n",
       "      <td>31.43028</td>\n",
       "      <td>57.646001</td>\n",
       "      <td>0.231727</td>\n",
       "      <td>1009.731522</td>\n",
       "      <td>25.304720</td>\n",
       "      <td>9.409899</td>\n",
       "      <td>9.397663</td>\n",
       "    </tr>\n",
       "    <tr>\n",
       "      <th>std</th>\n",
       "      <td>0.921580</td>\n",
       "      <td>6.093959</td>\n",
       "      <td>4.355228</td>\n",
       "      <td>34.09457</td>\n",
       "      <td>25.316012</td>\n",
       "      <td>0.802657</td>\n",
       "      <td>3.580792</td>\n",
       "      <td>4.659629</td>\n",
       "      <td>1.593393</td>\n",
       "      <td>4.775019</td>\n",
       "    </tr>\n",
       "    <tr>\n",
       "      <th>min</th>\n",
       "      <td>4.000000</td>\n",
       "      <td>-12.000000</td>\n",
       "      <td>11.000000</td>\n",
       "      <td>0.00000</td>\n",
       "      <td>4.000000</td>\n",
       "      <td>0.000000</td>\n",
       "      <td>997.000000</td>\n",
       "      <td>11.000000</td>\n",
       "      <td>0.000000</td>\n",
       "      <td>0.000000</td>\n",
       "    </tr>\n",
       "    <tr>\n",
       "      <th>25%</th>\n",
       "      <td>5.000000</td>\n",
       "      <td>10.000000</td>\n",
       "      <td>25.000000</td>\n",
       "      <td>3.00000</td>\n",
       "      <td>36.000000</td>\n",
       "      <td>0.000000</td>\n",
       "      <td>1007.000000</td>\n",
       "      <td>22.000000</td>\n",
       "      <td>10.000000</td>\n",
       "      <td>6.000000</td>\n",
       "    </tr>\n",
       "    <tr>\n",
       "      <th>50%</th>\n",
       "      <td>6.000000</td>\n",
       "      <td>16.000000</td>\n",
       "      <td>26.000000</td>\n",
       "      <td>12.00000</td>\n",
       "      <td>58.000000</td>\n",
       "      <td>0.000000</td>\n",
       "      <td>1010.000000</td>\n",
       "      <td>24.000000</td>\n",
       "      <td>10.000000</td>\n",
       "      <td>9.000000</td>\n",
       "    </tr>\n",
       "    <tr>\n",
       "      <th>75%</th>\n",
       "      <td>7.000000</td>\n",
       "      <td>21.000000</td>\n",
       "      <td>29.000000</td>\n",
       "      <td>66.00000</td>\n",
       "      <td>82.000000</td>\n",
       "      <td>0.100000</td>\n",
       "      <td>1012.000000</td>\n",
       "      <td>28.000000</td>\n",
       "      <td>10.000000</td>\n",
       "      <td>12.000000</td>\n",
       "    </tr>\n",
       "    <tr>\n",
       "      <th>max</th>\n",
       "      <td>8.000000</td>\n",
       "      <td>25.000000</td>\n",
       "      <td>44.000000</td>\n",
       "      <td>100.00000</td>\n",
       "      <td>100.000000</td>\n",
       "      <td>25.700000</td>\n",
       "      <td>1021.000000</td>\n",
       "      <td>43.000000</td>\n",
       "      <td>10.000000</td>\n",
       "      <td>40.000000</td>\n",
       "    </tr>\n",
       "  </tbody>\n",
       "</table>\n",
       "</div>"
      ],
      "text/plain": [
       "             uvIndex      DewPointC     HeatIndexC    cloudcover   \n",
       "count  116136.000000  116136.000000  116136.000000  116136.00000  \\\n",
       "mean        6.208927      15.141722      26.364383      31.43028   \n",
       "std         0.921580       6.093959       4.355228      34.09457   \n",
       "min         4.000000     -12.000000      11.000000       0.00000   \n",
       "25%         5.000000      10.000000      25.000000       3.00000   \n",
       "50%         6.000000      16.000000      26.000000      12.00000   \n",
       "75%         7.000000      21.000000      29.000000      66.00000   \n",
       "max         8.000000      25.000000      44.000000     100.00000   \n",
       "\n",
       "            humidity       precipMM       pressure          tempC   \n",
       "count  116136.000000  116136.000000  116136.000000  116136.000000  \\\n",
       "mean       57.646001       0.231727    1009.731522      25.304720   \n",
       "std        25.316012       0.802657       3.580792       4.659629   \n",
       "min         4.000000       0.000000     997.000000      11.000000   \n",
       "25%        36.000000       0.000000    1007.000000      22.000000   \n",
       "50%        58.000000       0.000000    1010.000000      24.000000   \n",
       "75%        82.000000       0.100000    1012.000000      28.000000   \n",
       "max       100.000000      25.700000    1021.000000      43.000000   \n",
       "\n",
       "          visibility  windspeedKmph  \n",
       "count  116136.000000  116136.000000  \n",
       "mean        9.409899       9.397663  \n",
       "std         1.593393       4.775019  \n",
       "min         0.000000       0.000000  \n",
       "25%        10.000000       6.000000  \n",
       "50%        10.000000       9.000000  \n",
       "75%        10.000000      12.000000  \n",
       "max        10.000000      40.000000  "
      ]
     },
     "execution_count": 24,
     "metadata": {},
     "output_type": "execute_result"
    }
   ],
   "source": [
    "data.describe()"
   ]
  },
  {
   "cell_type": "code",
   "execution_count": 19,
   "id": "f6036bb7-adfb-4336-81e8-8ff984777398",
   "metadata": {},
   "outputs": [
    {
     "data": {
      "text/plain": [
       "array([6, 7, 8, 5, 4], dtype=int64)"
      ]
     },
     "execution_count": 19,
     "metadata": {},
     "output_type": "execute_result"
    }
   ],
   "source": [
    "data['uvIndex'].unique()    # array([6, 7, 8, 5, 4], dtype=int64)"
   ]
  },
  {
   "cell_type": "code",
   "execution_count": 20,
   "id": "a3b61ce9-9235-4874-9b95-020b6615ebf9",
   "metadata": {},
   "outputs": [
    {
     "data": {
      "text/plain": [
       "array([ 13,  14,  15,  16,  17,  11,  12,  10,   9,   8,   7,   6,   5,\n",
       "         4,   2,   3,   1,   0,  -2,  -3,  -1,  18,  19,  20,  21,  22,\n",
       "        23,  24,  25,  -4,  -7,  -6,  -8,  -5,  -9, -10, -11, -12],\n",
       "      dtype=int64)"
      ]
     },
     "execution_count": 20,
     "metadata": {},
     "output_type": "execute_result"
    }
   ],
   "source": [
    "data['DewPointC'].unique()  "
   ]
  },
  {
   "cell_type": "code",
   "execution_count": 21,
   "id": "5f0ad622-4ce8-4782-a93f-420cd99306f9",
   "metadata": {},
   "outputs": [
    {
     "data": {
      "text/plain": [
       "array([18, 19, 20, 24, 25, 26, 28, 29, 30, 27, 21, 31, 17, 16, 15, 23, 32,\n",
       "       33, 22, 34, 35, 37, 36, 38, 39, 40, 42, 41, 44, 43, 14, 13, 12, 11],\n",
       "      dtype=int64)"
      ]
     },
     "execution_count": 21,
     "metadata": {},
     "output_type": "execute_result"
    }
   ],
   "source": [
    "data['HeatIndexC'].unique()  "
   ]
  },
  {
   "cell_type": "code",
   "execution_count": 22,
   "id": "c706e6e7-3401-462b-9052-a1e37cf5c4f5",
   "metadata": {},
   "outputs": [
    {
     "data": {
      "text/plain": [
       "array([ 31,  30,  29,  23,  16,  10,   9,   8,  12,  14,  18,  20,  25,\n",
       "        37,  40,  43,  47,  38,  17,  13,   7,  15,  11,  24,  32,  39,\n",
       "        34,  22,  19,   6,   5,   4,   3,   2,   1,   0,  42,  59,  76,\n",
       "        68,  61,  53,  50,  44,  46,  58,  56,  54,  52,  36,  72,  28,\n",
       "        26,  27,  21,  45,  35,  41,  48,  49,  33,  51,  70,  89,  83,\n",
       "        77,  71,  67,  62,  75,  87,  86,  82,  85,  88,  57,  79,  60,\n",
       "        63,  55,  73,  81,  78,  84,  69,  74,  80,  64,  66,  65,  99,\n",
       "       100,  93,  95,  98,  96,  92,  90,  91,  97,  94], dtype=int64)"
      ]
     },
     "execution_count": 22,
     "metadata": {},
     "output_type": "execute_result"
    }
   ],
   "source": [
    "data['cloudcover'].unique()  "
   ]
  },
  {
   "cell_type": "code",
   "execution_count": 23,
   "id": "2527565a-21f8-4d96-a505-0d459b190717",
   "metadata": {},
   "outputs": [
    {
     "data": {
      "text/plain": [
       "array([ 72,  68,  64,  59,  51,  42,  33,  32,  30,  29,  35,  41,  47,\n",
       "        53,  66,  67,  70,  71,  69,  58,  50,  40,  38,  36,  43,  57,\n",
       "        60,  61,  62,  65,  52,  45,  34,  37,  46,  55,  63,  56,  31,\n",
       "        28,  49,  54,  39,  44,  48,  24,  27,  25,  22,  23,  26,  20,\n",
       "        18,  21,  16,  15,  13,  12,  19,  14,  11,  10,  17,  73,  76,\n",
       "        79,  83,  74,  75,  77,  78,   9,   8,  80,  82,  85,  86,  87,\n",
       "        88,  84,  89,  81,  90,  91,  92,  93,  95,  96,  94,  97,  98,\n",
       "        99, 100,   7,   6,   5,   4], dtype=int64)"
      ]
     },
     "execution_count": 23,
     "metadata": {},
     "output_type": "execute_result"
    }
   ],
   "source": [
    "data['humidity'].unique()  "
   ]
  },
  {
   "cell_type": "code",
   "execution_count": 26,
   "id": "19ffd63c-e0ae-4140-acfb-aedde4d5378c",
   "metadata": {},
   "outputs": [
    {
     "data": {
      "text/plain": [
       "array([ 0. ,  0.2,  0.5,  0.4,  0.3,  1.3,  1.8,  1. ,  0.7,  0.8,  0.1,\n",
       "        1.1,  1.4,  6.6,  8.8,  4.4,  0.9,  0.6,  1.5,  1.6,  5.5,  1.9,\n",
       "        2.1,  3.1,  4.2,  3. ,  3.2,  3.3,  1.2,  3.4,  2.6,  2.7,  7.8,\n",
       "        1.7,  4.3,  6.4, 12.5,  9.6, 10.6, 14.1,  2. ,  2.9,  2.3,  2.8,\n",
       "        3.6,  5. ,  2.4,  3.8,  2.5,  3.5,  2.2,  6.2,  8. , 10.5,  5.4,\n",
       "        7. ,  3.7,  4.6,  6.8,  9. ,  4.7,  4.1,  5.2,  4.5,  6.5,  8.6,\n",
       "        3.9, 12. , 18.8, 22.3, 13.4,  9.3,  7.5, 10. , 12.1,  9.1,  9.7,\n",
       "        4.9,  5.6,  6.1,  6. ,  4. ,  4.8,  5.1,  8.7, 11.3,  5.3,  7.1,\n",
       "        9.9, 12.6, 10.3,  8.2,  9.2,  7.9,  5.8,  7.6,  5.7,  7.4,  9.4,\n",
       "       13.5,  6.3,  5.9,  6.7,  6.9,  8.1, 15.7, 14. ,  9.8,  8.9, 15.8,\n",
       "        7.3,  7.2, 10.2, 11.8, 14.8, 13.7, 10.7, 11.6,  9.5,  8.3, 10.9,\n",
       "       18.7, 22.7, 24.5, 10.1, 11. , 12.4, 11.1,  7.7,  8.5, 12.3, 16.8,\n",
       "       18. , 21.5, 22.9, 23.8, 24.7, 20. , 14.5, 21.9, 21. , 14.7, 10.8,\n",
       "       11.2, 17.8, 11.5, 17. , 10.4, 15.2, 21.8, 25.5, 25.3, 25.7, 24.3,\n",
       "       18.6, 13.2, 12.9, 12.2])"
      ]
     },
     "execution_count": 26,
     "metadata": {},
     "output_type": "execute_result"
    }
   ],
   "source": [
    "data['precipMM'].unique()  "
   ]
  },
  {
   "cell_type": "code",
   "execution_count": 27,
   "id": "408459b4-b6bf-4ee1-9f33-d63434140802",
   "metadata": {},
   "outputs": [
    {
     "data": {
      "text/plain": [
       "array([1013, 1014, 1012, 1011, 1010, 1015, 1016, 1017, 1018, 1019, 1020,\n",
       "       1009, 1008, 1007, 1006, 1005, 1004, 1003, 1002, 1001, 1000,  999,\n",
       "        998, 1021,  997], dtype=int64)"
      ]
     },
     "execution_count": 27,
     "metadata": {},
     "output_type": "execute_result"
    }
   ],
   "source": [
    "data['pressure'].unique() "
   ]
  },
  {
   "cell_type": "code",
   "execution_count": 28,
   "id": "3b7a87fa-cdbe-4b31-8a9e-d537e1f9af2b",
   "metadata": {},
   "outputs": [
    {
     "data": {
      "text/plain": [
       "array([18, 19, 20, 21, 23, 24, 28, 29, 30, 27, 26, 22, 25, 17, 31, 32, 16,\n",
       "       15, 33, 34, 35, 36, 37, 38, 39, 40, 41, 42, 14, 13, 12, 43, 11],\n",
       "      dtype=int64)"
      ]
     },
     "execution_count": 28,
     "metadata": {},
     "output_type": "execute_result"
    }
   ],
   "source": [
    "data['tempC'].unique() "
   ]
  },
  {
   "cell_type": "code",
   "execution_count": 30,
   "id": "cd2ecea8-209b-4a85-89b4-49039ca22d4b",
   "metadata": {},
   "outputs": [
    {
     "data": {
      "text/plain": [
       "array([10,  8,  7,  5,  6,  9,  2,  4,  3,  0,  1], dtype=int64)"
      ]
     },
     "execution_count": 30,
     "metadata": {},
     "output_type": "execute_result"
    }
   ],
   "source": [
    "data['visibility'].unique() "
   ]
  },
  {
   "cell_type": "code",
   "execution_count": 33,
   "id": "5ae71a8a-ea66-4770-8c72-0e795bc511f2",
   "metadata": {},
   "outputs": [
    {
     "data": {
      "text/plain": [
       "array([ 5,  4,  6,  7,  8,  3,  2,  9, 10, 11, 12, 16, 13, 14,  0,  1, 15,\n",
       "       17, 18, 19, 20, 21, 22, 23, 24, 26, 25, 28, 27, 30, 29, 31, 32, 35,\n",
       "       39, 38, 33, 34, 37, 40, 36], dtype=int64)"
      ]
     },
     "execution_count": 33,
     "metadata": {},
     "output_type": "execute_result"
    }
   ],
   "source": [
    "data['windspeedKmph'].unique()"
   ]
  },
  {
   "cell_type": "code",
   "execution_count": 25,
   "id": "7b9ddf7c-5bb2-46ca-9990-0a859609a9b9",
   "metadata": {},
   "outputs": [
    {
     "data": {
      "text/html": [
       "<div>\n",
       "<style scoped>\n",
       "    .dataframe tbody tr th:only-of-type {\n",
       "        vertical-align: middle;\n",
       "    }\n",
       "\n",
       "    .dataframe tbody tr th {\n",
       "        vertical-align: top;\n",
       "    }\n",
       "\n",
       "    .dataframe thead th {\n",
       "        text-align: right;\n",
       "    }\n",
       "</style>\n",
       "<table border=\"1\" class=\"dataframe\">\n",
       "  <thead>\n",
       "    <tr style=\"text-align: right;\">\n",
       "      <th></th>\n",
       "      <th>uvIndex</th>\n",
       "      <th>DewPointC</th>\n",
       "      <th>HeatIndexC</th>\n",
       "      <th>cloudcover</th>\n",
       "      <th>humidity</th>\n",
       "      <th>precipMM</th>\n",
       "      <th>pressure</th>\n",
       "      <th>tempC</th>\n",
       "      <th>visibility</th>\n",
       "      <th>windspeedKmph</th>\n",
       "    </tr>\n",
       "  </thead>\n",
       "  <tbody>\n",
       "    <tr>\n",
       "      <th>count</th>\n",
       "      <td>116136.000000</td>\n",
       "      <td>116136.000000</td>\n",
       "      <td>116136.000000</td>\n",
       "      <td>116136.00000</td>\n",
       "      <td>116136.000000</td>\n",
       "      <td>116136.000000</td>\n",
       "      <td>116136.000000</td>\n",
       "      <td>116136.000000</td>\n",
       "      <td>116136.000000</td>\n",
       "      <td>116136.000000</td>\n",
       "    </tr>\n",
       "    <tr>\n",
       "      <th>mean</th>\n",
       "      <td>6.208927</td>\n",
       "      <td>15.141722</td>\n",
       "      <td>26.364383</td>\n",
       "      <td>31.43028</td>\n",
       "      <td>57.646001</td>\n",
       "      <td>0.231727</td>\n",
       "      <td>1009.731522</td>\n",
       "      <td>25.304720</td>\n",
       "      <td>9.409899</td>\n",
       "      <td>9.397663</td>\n",
       "    </tr>\n",
       "    <tr>\n",
       "      <th>std</th>\n",
       "      <td>0.921580</td>\n",
       "      <td>6.093959</td>\n",
       "      <td>4.355228</td>\n",
       "      <td>34.09457</td>\n",
       "      <td>25.316012</td>\n",
       "      <td>0.802657</td>\n",
       "      <td>3.580792</td>\n",
       "      <td>4.659629</td>\n",
       "      <td>1.593393</td>\n",
       "      <td>4.775019</td>\n",
       "    </tr>\n",
       "    <tr>\n",
       "      <th>min</th>\n",
       "      <td>4.000000</td>\n",
       "      <td>-12.000000</td>\n",
       "      <td>11.000000</td>\n",
       "      <td>0.00000</td>\n",
       "      <td>4.000000</td>\n",
       "      <td>0.000000</td>\n",
       "      <td>997.000000</td>\n",
       "      <td>11.000000</td>\n",
       "      <td>0.000000</td>\n",
       "      <td>0.000000</td>\n",
       "    </tr>\n",
       "    <tr>\n",
       "      <th>25%</th>\n",
       "      <td>5.000000</td>\n",
       "      <td>10.000000</td>\n",
       "      <td>25.000000</td>\n",
       "      <td>3.00000</td>\n",
       "      <td>36.000000</td>\n",
       "      <td>0.000000</td>\n",
       "      <td>1007.000000</td>\n",
       "      <td>22.000000</td>\n",
       "      <td>10.000000</td>\n",
       "      <td>6.000000</td>\n",
       "    </tr>\n",
       "    <tr>\n",
       "      <th>50%</th>\n",
       "      <td>6.000000</td>\n",
       "      <td>16.000000</td>\n",
       "      <td>26.000000</td>\n",
       "      <td>12.00000</td>\n",
       "      <td>58.000000</td>\n",
       "      <td>0.000000</td>\n",
       "      <td>1010.000000</td>\n",
       "      <td>24.000000</td>\n",
       "      <td>10.000000</td>\n",
       "      <td>9.000000</td>\n",
       "    </tr>\n",
       "    <tr>\n",
       "      <th>75%</th>\n",
       "      <td>7.000000</td>\n",
       "      <td>21.000000</td>\n",
       "      <td>29.000000</td>\n",
       "      <td>66.00000</td>\n",
       "      <td>82.000000</td>\n",
       "      <td>0.100000</td>\n",
       "      <td>1012.000000</td>\n",
       "      <td>28.000000</td>\n",
       "      <td>10.000000</td>\n",
       "      <td>12.000000</td>\n",
       "    </tr>\n",
       "    <tr>\n",
       "      <th>max</th>\n",
       "      <td>8.000000</td>\n",
       "      <td>25.000000</td>\n",
       "      <td>44.000000</td>\n",
       "      <td>100.00000</td>\n",
       "      <td>100.000000</td>\n",
       "      <td>25.700000</td>\n",
       "      <td>1021.000000</td>\n",
       "      <td>43.000000</td>\n",
       "      <td>10.000000</td>\n",
       "      <td>40.000000</td>\n",
       "    </tr>\n",
       "  </tbody>\n",
       "</table>\n",
       "</div>"
      ],
      "text/plain": [
       "             uvIndex      DewPointC     HeatIndexC    cloudcover   \n",
       "count  116136.000000  116136.000000  116136.000000  116136.00000  \\\n",
       "mean        6.208927      15.141722      26.364383      31.43028   \n",
       "std         0.921580       6.093959       4.355228      34.09457   \n",
       "min         4.000000     -12.000000      11.000000       0.00000   \n",
       "25%         5.000000      10.000000      25.000000       3.00000   \n",
       "50%         6.000000      16.000000      26.000000      12.00000   \n",
       "75%         7.000000      21.000000      29.000000      66.00000   \n",
       "max         8.000000      25.000000      44.000000     100.00000   \n",
       "\n",
       "            humidity       precipMM       pressure          tempC   \n",
       "count  116136.000000  116136.000000  116136.000000  116136.000000  \\\n",
       "mean       57.646001       0.231727    1009.731522      25.304720   \n",
       "std        25.316012       0.802657       3.580792       4.659629   \n",
       "min         4.000000       0.000000     997.000000      11.000000   \n",
       "25%        36.000000       0.000000    1007.000000      22.000000   \n",
       "50%        58.000000       0.000000    1010.000000      24.000000   \n",
       "75%        82.000000       0.100000    1012.000000      28.000000   \n",
       "max       100.000000      25.700000    1021.000000      43.000000   \n",
       "\n",
       "          visibility  windspeedKmph  \n",
       "count  116136.000000  116136.000000  \n",
       "mean        9.409899       9.397663  \n",
       "std         1.593393       4.775019  \n",
       "min         0.000000       0.000000  \n",
       "25%        10.000000       6.000000  \n",
       "50%        10.000000       9.000000  \n",
       "75%        10.000000      12.000000  \n",
       "max        10.000000      40.000000  "
      ]
     },
     "execution_count": 25,
     "metadata": {},
     "output_type": "execute_result"
    }
   ],
   "source": [
    "data.describe()"
   ]
  },
  {
   "cell_type": "markdown",
   "id": "2eeebc07-4ba7-441b-863e-5668bfdcbb90",
   "metadata": {},
   "source": [
    "# No NULL Values\n"
   ]
  },
  {
   "cell_type": "code",
   "execution_count": 34,
   "id": "7c912a0d-99b0-4028-8c75-0b0bf3a2c30c",
   "metadata": {},
   "outputs": [
    {
     "data": {
      "text/plain": [
       "date_time        0\n",
       "uvIndex          0\n",
       "DewPointC        0\n",
       "HeatIndexC       0\n",
       "cloudcover       0\n",
       "humidity         0\n",
       "precipMM         0\n",
       "pressure         0\n",
       "tempC            0\n",
       "visibility       0\n",
       "windspeedKmph    0\n",
       "dtype: int64"
      ]
     },
     "execution_count": 34,
     "metadata": {},
     "output_type": "execute_result"
    }
   ],
   "source": [
    "data.isna().sum()"
   ]
  },
  {
   "cell_type": "code",
   "execution_count": 35,
   "id": "5408ab60-60b2-4b54-9074-d644e3e27ef5",
   "metadata": {},
   "outputs": [
    {
     "data": {
      "text/plain": [
       "Index(['date_time', 'uvIndex', 'DewPointC', 'HeatIndexC', 'cloudcover',\n",
       "       'humidity', 'precipMM', 'pressure', 'tempC', 'visibility',\n",
       "       'windspeedKmph'],\n",
       "      dtype='object')"
      ]
     },
     "execution_count": 35,
     "metadata": {},
     "output_type": "execute_result"
    }
   ],
   "source": [
    "data.columns"
   ]
  },
  {
   "cell_type": "code",
   "execution_count": null,
   "id": "f07ee5ff-6a25-4511-8ecb-42a7c1d3a726",
   "metadata": {},
   "outputs": [],
   "source": []
  }
 ],
 "metadata": {
  "kernelspec": {
   "display_name": "Python 3 (ipykernel)",
   "language": "python",
   "name": "python3"
  },
  "language_info": {
   "codemirror_mode": {
    "name": "ipython",
    "version": 3
   },
   "file_extension": ".py",
   "mimetype": "text/x-python",
   "name": "python",
   "nbconvert_exporter": "python",
   "pygments_lexer": "ipython3",
   "version": "3.10.2"
  }
 },
 "nbformat": 4,
 "nbformat_minor": 5
}
